{
 "cells": [
  {
   "cell_type": "code",
   "execution_count": 1,
   "metadata": {},
   "outputs": [],
   "source": [
    "import graphlab"
   ]
  },
  {
   "cell_type": "code",
   "execution_count": 3,
   "metadata": {
    "scrolled": true
   },
   "outputs": [],
   "source": [
    "people=graphlab.SFrame(\"people_wiki.gl/\")"
   ]
  },
  {
   "cell_type": "code",
   "execution_count": 4,
   "metadata": {},
   "outputs": [
    {
     "data": {
      "text/html": [
       "<div style=\"max-height:1000px;max-width:1500px;overflow:auto;\"><table frame=\"box\" rules=\"cols\">\n",
       "    <tr>\n",
       "        <th style=\"padding-left: 1em; padding-right: 1em; text-align: center\">URI</th>\n",
       "        <th style=\"padding-left: 1em; padding-right: 1em; text-align: center\">name</th>\n",
       "        <th style=\"padding-left: 1em; padding-right: 1em; text-align: center\">text</th>\n",
       "    </tr>\n",
       "    <tr>\n",
       "        <td style=\"padding-left: 1em; padding-right: 1em; text-align: center; vertical-align: top\">&lt;http://dbpedia.org/resou<br>rce/Digby_Morrell&gt; ...</td>\n",
       "        <td style=\"padding-left: 1em; padding-right: 1em; text-align: center; vertical-align: top\">Digby Morrell</td>\n",
       "        <td style=\"padding-left: 1em; padding-right: 1em; text-align: center; vertical-align: top\">digby morrell born 10<br>october 1979 is a former ...</td>\n",
       "    </tr>\n",
       "    <tr>\n",
       "        <td style=\"padding-left: 1em; padding-right: 1em; text-align: center; vertical-align: top\">&lt;http://dbpedia.org/resou<br>rce/Alfred_J._Lewy&gt; ...</td>\n",
       "        <td style=\"padding-left: 1em; padding-right: 1em; text-align: center; vertical-align: top\">Alfred J. Lewy</td>\n",
       "        <td style=\"padding-left: 1em; padding-right: 1em; text-align: center; vertical-align: top\">alfred j lewy aka sandy<br>lewy graduated from ...</td>\n",
       "    </tr>\n",
       "    <tr>\n",
       "        <td style=\"padding-left: 1em; padding-right: 1em; text-align: center; vertical-align: top\">&lt;http://dbpedia.org/resou<br>rce/Harpdog_Brown&gt; ...</td>\n",
       "        <td style=\"padding-left: 1em; padding-right: 1em; text-align: center; vertical-align: top\">Harpdog Brown</td>\n",
       "        <td style=\"padding-left: 1em; padding-right: 1em; text-align: center; vertical-align: top\">harpdog brown is a singer<br>and harmonica player who ...</td>\n",
       "    </tr>\n",
       "    <tr>\n",
       "        <td style=\"padding-left: 1em; padding-right: 1em; text-align: center; vertical-align: top\">&lt;http://dbpedia.org/resou<br>rce/Franz_Rottensteiner&gt; ...</td>\n",
       "        <td style=\"padding-left: 1em; padding-right: 1em; text-align: center; vertical-align: top\">Franz Rottensteiner</td>\n",
       "        <td style=\"padding-left: 1em; padding-right: 1em; text-align: center; vertical-align: top\">franz rottensteiner born<br>in waidmannsfeld lower ...</td>\n",
       "    </tr>\n",
       "    <tr>\n",
       "        <td style=\"padding-left: 1em; padding-right: 1em; text-align: center; vertical-align: top\">&lt;http://dbpedia.org/resou<br>rce/G-Enka&gt; ...</td>\n",
       "        <td style=\"padding-left: 1em; padding-right: 1em; text-align: center; vertical-align: top\">G-Enka</td>\n",
       "        <td style=\"padding-left: 1em; padding-right: 1em; text-align: center; vertical-align: top\">henry krvits born 30<br>december 1974 in tallinn ...</td>\n",
       "    </tr>\n",
       "    <tr>\n",
       "        <td style=\"padding-left: 1em; padding-right: 1em; text-align: center; vertical-align: top\">&lt;http://dbpedia.org/resou<br>rce/Sam_Henderson&gt; ...</td>\n",
       "        <td style=\"padding-left: 1em; padding-right: 1em; text-align: center; vertical-align: top\">Sam Henderson</td>\n",
       "        <td style=\"padding-left: 1em; padding-right: 1em; text-align: center; vertical-align: top\">sam henderson born<br>october 18 1969 is an ...</td>\n",
       "    </tr>\n",
       "    <tr>\n",
       "        <td style=\"padding-left: 1em; padding-right: 1em; text-align: center; vertical-align: top\">&lt;http://dbpedia.org/resou<br>rce/Aaron_LaCrate&gt; ...</td>\n",
       "        <td style=\"padding-left: 1em; padding-right: 1em; text-align: center; vertical-align: top\">Aaron LaCrate</td>\n",
       "        <td style=\"padding-left: 1em; padding-right: 1em; text-align: center; vertical-align: top\">aaron lacrate is an<br>american music producer ...</td>\n",
       "    </tr>\n",
       "    <tr>\n",
       "        <td style=\"padding-left: 1em; padding-right: 1em; text-align: center; vertical-align: top\">&lt;http://dbpedia.org/resou<br>rce/Trevor_Ferguson&gt; ...</td>\n",
       "        <td style=\"padding-left: 1em; padding-right: 1em; text-align: center; vertical-align: top\">Trevor Ferguson</td>\n",
       "        <td style=\"padding-left: 1em; padding-right: 1em; text-align: center; vertical-align: top\">trevor ferguson aka john<br>farrow born 11 november ...</td>\n",
       "    </tr>\n",
       "    <tr>\n",
       "        <td style=\"padding-left: 1em; padding-right: 1em; text-align: center; vertical-align: top\">&lt;http://dbpedia.org/resou<br>rce/Grant_Nelson&gt; ...</td>\n",
       "        <td style=\"padding-left: 1em; padding-right: 1em; text-align: center; vertical-align: top\">Grant Nelson</td>\n",
       "        <td style=\"padding-left: 1em; padding-right: 1em; text-align: center; vertical-align: top\">grant nelson born 27<br>april 1971 in london  ...</td>\n",
       "    </tr>\n",
       "    <tr>\n",
       "        <td style=\"padding-left: 1em; padding-right: 1em; text-align: center; vertical-align: top\">&lt;http://dbpedia.org/resou<br>rce/Cathy_Caruth&gt; ...</td>\n",
       "        <td style=\"padding-left: 1em; padding-right: 1em; text-align: center; vertical-align: top\">Cathy Caruth</td>\n",
       "        <td style=\"padding-left: 1em; padding-right: 1em; text-align: center; vertical-align: top\">cathy caruth born 1955 is<br>frank h t rhodes ...</td>\n",
       "    </tr>\n",
       "</table>\n",
       "[10 rows x 3 columns]<br/>\n",
       "</div>"
      ],
      "text/plain": [
       "Columns:\n",
       "\tURI\tstr\n",
       "\tname\tstr\n",
       "\ttext\tstr\n",
       "\n",
       "Rows: 10\n",
       "\n",
       "Data:\n",
       "+-------------------------------+---------------------+\n",
       "|              URI              |         name        |\n",
       "+-------------------------------+---------------------+\n",
       "| <http://dbpedia.org/resour... |    Digby Morrell    |\n",
       "| <http://dbpedia.org/resour... |    Alfred J. Lewy   |\n",
       "| <http://dbpedia.org/resour... |    Harpdog Brown    |\n",
       "| <http://dbpedia.org/resour... | Franz Rottensteiner |\n",
       "| <http://dbpedia.org/resour... |        G-Enka       |\n",
       "| <http://dbpedia.org/resour... |    Sam Henderson    |\n",
       "| <http://dbpedia.org/resour... |    Aaron LaCrate    |\n",
       "| <http://dbpedia.org/resour... |   Trevor Ferguson   |\n",
       "| <http://dbpedia.org/resour... |     Grant Nelson    |\n",
       "| <http://dbpedia.org/resour... |     Cathy Caruth    |\n",
       "+-------------------------------+---------------------+\n",
       "+-------------------------------+\n",
       "|              text             |\n",
       "+-------------------------------+\n",
       "| digby morrell born 10 octo... |\n",
       "| alfred j lewy aka sandy le... |\n",
       "| harpdog brown is a singer ... |\n",
       "| franz rottensteiner born i... |\n",
       "| henry krvits born 30 decem... |\n",
       "| sam henderson born october... |\n",
       "| aaron lacrate is an americ... |\n",
       "| trevor ferguson aka john f... |\n",
       "| grant nelson born 27 april... |\n",
       "| cathy caruth born 1955 is ... |\n",
       "+-------------------------------+\n",
       "[10 rows x 3 columns]"
      ]
     },
     "execution_count": 4,
     "metadata": {},
     "output_type": "execute_result"
    }
   ],
   "source": [
    "people.head()"
   ]
  },
  {
   "cell_type": "code",
   "execution_count": 19,
   "metadata": {},
   "outputs": [],
   "source": [
    "clooey=people[people[\"name\"]  == \"George Clooney\"]"
   ]
  },
  {
   "cell_type": "code",
   "execution_count": 21,
   "metadata": {},
   "outputs": [],
   "source": [
    "clooey[\"word_count\"]=graphlab.text_analytics.count_words(clooey[\"text\"])"
   ]
  },
  {
   "cell_type": "code",
   "execution_count": 30,
   "metadata": {},
   "outputs": [
    {
     "data": {
      "application/javascript": [
       "$(\"head\").append($(\"<link/>\").attr({\n",
       "  rel:  \"stylesheet\",\n",
       "  type: \"text/css\",\n",
       "  href: \"//cdnjs.cloudflare.com/ajax/libs/font-awesome/4.1.0/css/font-awesome.min.css\"\n",
       "}));\n",
       "$(\"head\").append($(\"<link/>\").attr({\n",
       "  rel:  \"stylesheet\",\n",
       "  type: \"text/css\",\n",
       "  href: \"https://static.turi.com/products/graphlab-create/2.1/canvas/css/canvas.css\"\n",
       "}));\n",
       "\n",
       "            (function(){\n",
       "\n",
       "                var e = null;\n",
       "                if (typeof element == 'undefined') {\n",
       "                    var scripts = document.getElementsByTagName('script');\n",
       "                    var thisScriptTag = scripts[scripts.length-1];\n",
       "                    var parentDiv = thisScriptTag.parentNode;\n",
       "                    e = document.createElement('div');\n",
       "                    parentDiv.appendChild(e);\n",
       "                } else {\n",
       "                    e = element[0];\n",
       "                }\n",
       "\n",
       "                if (typeof requirejs !== 'undefined') {\n",
       "                    // disable load timeout; ipython_app.js is large and can take a while to load.\n",
       "                    requirejs.config({waitSeconds: 0});\n",
       "                }\n",
       "\n",
       "                require(['https://static.turi.com/products/graphlab-create/2.1/canvas/js/ipython_app.js'], function(IPythonApp){\n",
       "                    var app = new IPythonApp();\n",
       "                    app.attachView('sarray','Dictionary', {\"ipython\": true, \"sketch\": {\"keys\": {\"complete\": true, \"numeric\": false, \"num_unique\": 238, \"num_undefined\": 0, \"progress\": 1.0, \"frequent_items\": {\"all\": {\"frequency\": 1, \"value\": \"all\"}, \"six\": {\"frequency\": 1, \"value\": \"six\"}, \"producer\": {\"frequency\": 1, \"value\": \"producer\"}, \"golden\": {\"frequency\": 1, \"value\": \"golden\"}, \"resolution\": {\"frequency\": 1, \"value\": \"resolution\"}, \"nominated\": {\"frequency\": 1, \"value\": \"nominated\"}, \"2008\": {\"frequency\": 1, \"value\": \"2008\"}, \"ever\": {\"frequency\": 1, \"value\": \"ever\"}, \"including\": {\"frequency\": 1, \"value\": \"including\"}, \"world\": {\"frequency\": 1, \"value\": \"world\"}, \"its\": {\"frequency\": 1, \"value\": \"its\"}, \"1\": {\"frequency\": 1, \"value\": \"1\"}, \"affleck\": {\"frequency\": 1, \"value\": \"affleck\"}, \"gulf\": {\"frequency\": 1, \"value\": \"gulf\"}, \"earned\": {\"frequency\": 1, \"value\": \"earned\"}, \"tv\": {\"frequency\": 1, \"value\": \"tv\"}, \"crises\": {\"frequency\": 1, \"value\": \"crises\"}, \"writer\": {\"frequency\": 1, \"value\": \"writer\"}, \"sexiest\": {\"frequency\": 1, \"value\": \"sexiest\"}, \"crime\": {\"frequency\": 1, \"value\": \"crime\"}, \"to\": {\"frequency\": 1, \"value\": \"to\"}, \"only\": {\"frequency\": 1, \"value\": \"only\"}, \"won\": {\"frequency\": 1, \"value\": \"won\"}, \"leatherheads\": {\"frequency\": 1, \"value\": \"leatherheads\"}, \"monuments\": {\"frequency\": 1, \"value\": \"monuments\"}, \"has\": {\"frequency\": 1, \"value\": \"has\"}, \"2011\": {\"frequency\": 1, \"value\": \"2011\"}, \"2010\": {\"frequency\": 1, \"value\": \"2010\"}, \"2013\": {\"frequency\": 1, \"value\": \"2013\"}, \"ross\": {\"frequency\": 1, \"value\": \"ross\"}, \"good\": {\"frequency\": 1, \"value\": \"good\"}, \"victims\": {\"frequency\": 1, \"value\": \"victims\"}, \"descendants\": {\"frequency\": 1, \"value\": \"descendants\"}, \"oceans\": {\"frequency\": 1, \"value\": \"oceans\"}, \"clooneys\": {\"frequency\": 1, \"value\": \"clooneys\"}, \"documentaries\": {\"frequency\": 1, \"value\": \"documentaries\"}, \"during\": {\"frequency\": 1, \"value\": \"during\"}, \"haiti\": {\"frequency\": 1, \"value\": \"haiti\"}, \"dr\": {\"frequency\": 1, \"value\": \"dr\"}, \"categoriesclooney\": {\"frequency\": 1, \"value\": \"categoriesclooney\"}, \"1997\": {\"frequency\": 1, \"value\": \"1997\"}, \"success\": {\"frequency\": 1, \"value\": \"success\"}, \"january\": {\"frequency\": 1, \"value\": \"january\"}, \"heist\": {\"frequency\": 1, \"value\": \"heist\"}, \"debut\": {\"frequency\": 1, \"value\": \"debut\"}, \"michael\": {\"frequency\": 1, \"value\": \"michael\"}, \"50\": {\"frequency\": 1, \"value\": \"50\"}, \"sand\": {\"frequency\": 1, \"value\": \"sand\"}, \"night\": {\"frequency\": 1, \"value\": \"night\"}, \"release\": {\"frequency\": 1, \"value\": \"release\"}, \"become\": {\"frequency\": 1, \"value\": \"become\"}, \"out\": {\"frequency\": 1, \"value\": \"out\"}, \"noted\": {\"frequency\": 1, \"value\": \"noted\"}, \"attracting\": {\"frequency\": 1, \"value\": \"attracting\"}, \"set\": {\"frequency\": 1, \"value\": \"set\"}, \"people\": {\"frequency\": 1, \"value\": \"people\"}, \"list\": {\"frequency\": 1, \"value\": \"list\"}, \"globe\": {\"frequency\": 1, \"value\": \"globe\"}, \"widened\": {\"frequency\": 1, \"value\": \"widened\"}, \"sight\": {\"frequency\": 1, \"value\": \"sight\"}, \"doug\": {\"frequency\": 1, \"value\": \"doug\"}, \"air\": {\"frequency\": 1, \"value\": \"air\"}, \"recognition\": {\"frequency\": 1, \"value\": \"recognition\"}, \"ides\": {\"frequency\": 1, \"value\": \"ides\"}, \"superhero\": {\"frequency\": 1, \"value\": \"superhero\"}, \"lead\": {\"frequency\": 1, \"value\": \"lead\"}, \"activism\": {\"frequency\": 1, \"value\": \"activism\"}, \"since\": {\"frequency\": 1, \"value\": \"since\"}, \"tsunami\": {\"frequency\": 1, \"value\": \"tsunami\"}, \"legal\": {\"frequency\": 1, \"value\": \"legal\"}, \"acting\": {\"frequency\": 1, \"value\": \"acting\"}, \"activist\": {\"frequency\": 1, \"value\": \"activist\"}, \"longtime\": {\"frequency\": 1, \"value\": \"longtime\"}, \"international\": {\"frequency\": 1, \"value\": \"international\"}, \"three\": {\"frequency\": 1, \"value\": \"three\"}, \"911\": {\"frequency\": 1, \"value\": \"911\"}, \"wide\": {\"frequency\": 1, \"value\": \"wide\"}, \"supporting\": {\"frequency\": 1, \"value\": \"supporting\"}, \"creating\": {\"frequency\": 1, \"value\": \"creating\"}, \"producingclooney\": {\"frequency\": 1, \"value\": \"producingclooney\"}, \"frank\": {\"frequency\": 1, \"value\": \"frank\"}, \"sorrow\": {\"frequency\": 1, \"value\": \"sorrow\"}, \"men\": {\"frequency\": 1, \"value\": \"men\"}, \"commercial\": {\"frequency\": 1, \"value\": \"commercial\"}, \"batman\": {\"frequency\": 1, \"value\": \"batman\"}, \"clayton\": {\"frequency\": 1, \"value\": \"clayton\"}, \"warin\": {\"frequency\": 1, \"value\": \"warin\"}, \"ranked\": {\"frequency\": 1, \"value\": \"ranked\"}, \"longrunning\": {\"frequency\": 1, \"value\": \"longrunning\"}, \"no\": {\"frequency\": 1, \"value\": \"no\"}, \"served\": {\"frequency\": 1, \"value\": \"served\"}, \"from\": {\"frequency\": 1, \"value\": \"from\"}, \"100\": {\"frequency\": 1, \"value\": \"100\"}, \"earthquake\": {\"frequency\": 1, \"value\": \"earthquake\"}, \"films\": {\"frequency\": 1, \"value\": \"films\"}, \"gained\": {\"frequency\": 1, \"value\": \"gained\"}, \"received\": {\"frequency\": 1, \"value\": \"received\"}, \"about\": {\"frequency\": 1, \"value\": \"about\"}, \"working\": {\"frequency\": 1, \"value\": \"working\"}, \"influential\": {\"frequency\": 1, \"value\": \"influential\"}, \"of\": {\"frequency\": 1, \"value\": \"of\"}, \"31\": {\"frequency\": 1, \"value\": \"31\"}, \"annual\": {\"frequency\": 1, \"value\": \"annual\"}, \"comedydrama\": {\"frequency\": 1, \"value\": \"comedydrama\"}, \"guide\": {\"frequency\": 1, \"value\": \"guide\"}, \"drama\": {\"frequency\": 1, \"value\": \"drama\"}, \"american\": {\"frequency\": 1, \"value\": \"american\"}, \"remake\": {\"frequency\": 1, \"value\": \"remake\"}, \"awards\": {\"frequency\": 1, \"value\": \"awards\"}, \"clooney\": {\"frequency\": 1, \"value\": \"clooney\"}, \"luck\": {\"frequency\": 1, \"value\": \"luck\"}, \"2014he\": {\"frequency\": 1, \"value\": \"2014he\"}, \"first\": {\"frequency\": 1, \"value\": \"first\"}, \"soderbergh\": {\"frequency\": 1, \"value\": \"soderbergh\"}, \"satire\": {\"frequency\": 1, \"value\": \"satire\"}, \"argo\": {\"frequency\": 1, \"value\": \"argo\"}, \"year\": {\"frequency\": 1, \"value\": \"year\"}, \"messengers\": {\"frequency\": 1, \"value\": \"messengers\"}, \"one\": {\"frequency\": 1, \"value\": \"one\"}, \"steven\": {\"frequency\": 1, \"value\": \"steven\"}, \"kings\": {\"frequency\": 1, \"value\": \"kings\"}, \"george\": {\"frequency\": 1, \"value\": \"george\"}, \"timothy\": {\"frequency\": 1, \"value\": \"timothy\"}, \"described\": {\"frequency\": 1, \"value\": \"described\"}, \"raise\": {\"frequency\": 1, \"value\": \"raise\"}, \"would\": {\"frequency\": 1, \"value\": \"would\"}, \"syriana\": {\"frequency\": 1, \"value\": \"syriana\"}, \"leading\": {\"frequency\": 1, \"value\": \"leading\"}, \"trilogy\": {\"frequency\": 1, \"value\": \"trilogy\"}, \"political\": {\"frequency\": 1, \"value\": \"political\"}, \"two\": {\"frequency\": 1, \"value\": \"two\"}, \"relations\": {\"frequency\": 1, \"value\": \"relations\"}, \"sports\": {\"frequency\": 1, \"value\": \"sports\"}, \"eleven\": {\"frequency\": 1, \"value\": \"eleven\"}, \"stars\": {\"frequency\": 1, \"value\": \"stars\"}, \"6\": {\"frequency\": 1, \"value\": \"6\"}, \"biggest\": {\"frequency\": 1, \"value\": \"biggest\"}, \"confessions\": {\"frequency\": 1, \"value\": \"confessions\"}, \"was\": {\"frequency\": 1, \"value\": \"was\"}, \"war\": {\"frequency\": 1, \"value\": \"war\"}, \"grant\": {\"frequency\": 1, \"value\": \"grant\"}, \"on\": {\"frequency\": 1, \"value\": \"on\"}, \"with\": {\"frequency\": 1, \"value\": \"with\"}, \"academy\": {\"frequency\": 1, \"value\": \"academy\"}, \"took\": {\"frequency\": 1, \"value\": \"took\"}, \"darfur\": {\"frequency\": 1, \"value\": \"darfur\"}, \"dangerous\": {\"frequency\": 1, \"value\": \"dangerous\"}, \"collaborator\": {\"frequency\": 1, \"value\": \"collaborator\"}, \"east\": {\"frequency\": 1, \"value\": \"east\"}, \"be\": {\"frequency\": 1, \"value\": \"be\"}, \"producing\": {\"frequency\": 1, \"value\": \"producing\"}, \"raising\": {\"frequency\": 1, \"value\": \"raising\"}, \"he\": {\"frequency\": 1, \"value\": \"he\"}, \"directed\": {\"frequency\": 1, \"value\": \"directed\"}, \"directorial\": {\"frequency\": 1, \"value\": \"directorial\"}, \"television\": {\"frequency\": 1, \"value\": \"television\"}, \"made\": {\"frequency\": 1, \"value\": \"made\"}, \"ben\": {\"frequency\": 1, \"value\": \"ben\"}, \"1994\": {\"frequency\": 1, \"value\": \"1994\"}, \"roles\": {\"frequency\": 1, \"value\": \"roles\"}, \"born\": {\"frequency\": 1, \"value\": \"born\"}, \"1999\": {\"frequency\": 1, \"value\": \"1999\"}, \"1998\": {\"frequency\": 1, \"value\": \"1998\"}, \"work\": {\"frequency\": 1, \"value\": \"work\"}, \"up\": {\"frequency\": 1, \"value\": \"up\"}, \"advocacy\": {\"frequency\": 1, \"value\": \"advocacy\"}, \"nations\": {\"frequency\": 1, \"value\": \"nations\"}, \"sometimes\": {\"frequency\": 1, \"value\": \"sometimes\"}, \"while\": {\"frequency\": 1, \"value\": \"while\"}, \"awareness\": {\"frequency\": 1, \"value\": \"awareness\"}, \"nominations\": {\"frequency\": 1, \"value\": \"nominations\"}, \"robin\": {\"frequency\": 1, \"value\": \"robin\"}, \"and\": {\"frequency\": 1, \"value\": \"and\"}, \"emmy\": {\"frequency\": 1, \"value\": \"emmy\"}, \"later\": {\"frequency\": 1, \"value\": \"later\"}, \"is\": {\"frequency\": 1, \"value\": \"is\"}, \"alongside\": {\"frequency\": 1, \"value\": \"alongside\"}, \"mind\": {\"frequency\": 1, \"value\": \"mind\"}, \"heslov\": {\"frequency\": 1, \"value\": \"heslov\"}, \"an\": {\"frequency\": 1, \"value\": \"an\"}, \"middle\": {\"frequency\": 1, \"value\": \"middle\"}, \"as\": {\"frequency\": 1, \"value\": \"as\"}, \"his\": {\"frequency\": 1, \"value\": \"his\"}, \"council\": {\"frequency\": 1, \"value\": \"council\"}, \"in\": {\"frequency\": 1, \"value\": \"in\"}, \"march\": {\"frequency\": 1, \"value\": \"march\"}, \"foreign\": {\"frequency\": 1, \"value\": \"foreign\"}, \"fame\": {\"frequency\": 1, \"value\": \"fame\"}, \"film\": {\"frequency\": 1, \"value\": \"film\"}, \"sinatra\": {\"frequency\": 1, \"value\": \"sinatra\"}, \"handsome\": {\"frequency\": 1, \"value\": \"handsome\"}, \"united\": {\"frequency\": 1, \"value\": \"united\"}, \"variety\": {\"frequency\": 1, \"value\": \"variety\"}, \"began\": {\"frequency\": 1, \"value\": \"began\"}, \"peace\": {\"frequency\": 1, \"value\": \"peace\"}, \"1960\": {\"frequency\": 1, \"value\": \"1960\"}, \"1961\": {\"frequency\": 1, \"value\": \"1961\"}, \"actor\": {\"frequency\": 1, \"value\": \"actor\"}, \"member\": {\"frequency\": 1, \"value\": \"member\"}, \"also\": {\"frequency\": 1, \"value\": \"also\"}, \"other\": {\"frequency\": 1, \"value\": \"other\"}, \"role\": {\"frequency\": 1, \"value\": \"role\"}, \"best\": {\"frequency\": 1, \"value\": \"best\"}, \"which\": {\"frequency\": 1, \"value\": \"which\"}, \"funds\": {\"frequency\": 1, \"value\": \"funds\"}, \"finding\": {\"frequency\": 1, \"value\": \"finding\"}, \"comedy\": {\"frequency\": 1, \"value\": \"comedy\"}, \"conflict\": {\"frequency\": 1, \"value\": \"conflict\"}, \"picture\": {\"frequency\": 1, \"value\": \"picture\"}, \"time\": {\"frequency\": 1, \"value\": \"time\"}, \"may\": {\"frequency\": 1, \"value\": \"may\"}, \"who\": {\"frequency\": 1, \"value\": \"who\"}, \"wellreceived\": {\"frequency\": 1, \"value\": \"wellreceived\"}, \"includes\": {\"frequency\": 1, \"value\": \"includes\"}, \"director\": {\"frequency\": 1, \"value\": \"director\"}, \"most\": {\"frequency\": 1, \"value\": \"most\"}, \"award\": {\"frequency\": 1, \"value\": \"award\"}, \"included\": {\"frequency\": 1, \"value\": \"included\"}, \"such\": {\"frequency\": 1, \"value\": \"such\"}, \"subsequently\": {\"frequency\": 1, \"value\": \"subsequently\"}, \"thriller\": {\"frequency\": 1, \"value\": \"thriller\"}, \"times\": {\"frequency\": 1, \"value\": \"times\"}, \"a\": {\"frequency\": 1, \"value\": \"a\"}, \"danny\": {\"frequency\": 1, \"value\": \"danny\"}, \"for\": {\"frequency\": 1, \"value\": \"for\"}, \"1978\": {\"frequency\": 1, \"value\": \"1978\"}, \"biographical\": {\"frequency\": 1, \"value\": \"biographical\"}, \"medical\": {\"frequency\": 1, \"value\": \"medical\"}, \"humanitarian\": {\"frequency\": 1, \"value\": \"humanitarian\"}, \"worked\": {\"frequency\": 1, \"value\": \"worked\"}, \"ocean\": {\"frequency\": 1, \"value\": \"ocean\"}, \"person\": {\"frequency\": 1, \"value\": \"person\"}, \"2001\": {\"frequency\": 1, \"value\": \"2001\"}, \"2007\": {\"frequency\": 1, \"value\": \"2007\"}, \"2004\": {\"frequency\": 1, \"value\": \"2004\"}, \"2005\": {\"frequency\": 1, \"value\": \"2005\"}, \"the\": {\"frequency\": 1, \"value\": \"the\"}, \"2009\": {\"frequency\": 1, \"value\": \"2009\"}, \"er\": {\"frequency\": 1, \"value\": \"er\"}}, \"size\": 239}, \"progress\": 1.0, \"values\": {\"std\": 2.9366722147209403, \"complete\": true, \"min\": 1.0, \"max\": 35.0, \"quantile\": [1.0, 1.0, 1.0, 1.0, 1.0, 1.0, 1.0, 1.0, 1.0, 1.0, 1.0, 1.0, 1.0, 1.0, 1.0, 1.0, 1.0, 1.0, 1.0, 1.0, 1.0, 1.0, 1.0, 1.0, 1.0, 1.0, 1.0, 1.0, 1.0, 1.0, 1.0, 1.0, 1.0, 1.0, 1.0, 1.0, 1.0, 1.0, 1.0, 1.0, 1.0, 1.0, 1.0, 1.0, 1.0, 1.0, 1.0, 1.0, 1.0, 1.0, 1.0, 1.0, 1.0, 1.0, 1.0, 1.0, 1.0, 1.0, 1.0, 1.0, 1.0, 1.0, 1.0, 1.0, 1.0, 1.0, 1.0, 1.0, 1.0, 1.0, 1.0, 1.0, 1.0, 1.0, 1.0, 1.0, 1.0, 2.0, 2.0, 2.0, 2.0, 2.0, 2.0, 2.0, 2.0, 2.0, 2.0, 2.0, 3.0, 3.0, 3.0, 3.0, 3.0, 4.0, 4.0, 4.0, 5.0, 8.0, 13.0, 14.0, 35.0], \"median\": 1.0, \"numeric\": true, \"num_unique\": 12, \"num_undefined\": 0, \"var\": 8.624043696713994, \"progress\": 1.0, \"size\": 239, \"frequent_items\": {\"1.0\": {\"frequency\": 184, \"value\": 1.0}, \"2.0\": {\"frequency\": 26, \"value\": 2.0}, \"3.0\": {\"frequency\": 10, \"value\": 3.0}, \"4.0\": {\"frequency\": 8, \"value\": 4.0}, \"5.0\": {\"frequency\": 2, \"value\": 5.0}, \"7.0\": {\"frequency\": 1, \"value\": 7.0}, \"8.0\": {\"frequency\": 1, \"value\": 8.0}, \"9.0\": {\"frequency\": 2, \"value\": 9.0}, \"13.0\": {\"frequency\": 1, \"value\": 13.0}, \"14.0\": {\"frequency\": 2, \"value\": 14.0}, \"15.0\": {\"frequency\": 1, \"value\": 15.0}, \"35.0\": {\"frequency\": 1, \"value\": 35.0}}, \"mean\": 1.8075313807531388}, \"complete\": true, \"num_undefined\": 0}, \"selected_variable\": {\"name\": [\"<SArray>\"], \"dtype\": \"dict\", \"view_component\": \"Dictionary\", \"view_file\": \"sarray\", \"descriptives\": {\"rows\": 1}, \"type\": \"SArray\", \"view_components\": [\"Dictionary\"]}, \"histogram\": null}, e);\n",
       "                });\n",
       "            })();\n",
       "        "
      ]
     },
     "metadata": {},
     "output_type": "display_data"
    }
   ],
   "source": [
    "graphlab.canvas.set_target(\"ipynb\")\n",
    "clooey[\"word_count\"].show()"
   ]
  },
  {
   "cell_type": "code",
   "execution_count": 31,
   "metadata": {},
   "outputs": [
    {
     "data": {
      "text/html": [
       "<div style=\"max-height:1000px;max-width:1500px;overflow:auto;\"><table frame=\"box\" rules=\"cols\">\n",
       "    <tr>\n",
       "        <th style=\"padding-left: 1em; padding-right: 1em; text-align: center\">URI</th>\n",
       "        <th style=\"padding-left: 1em; padding-right: 1em; text-align: center\">name</th>\n",
       "        <th style=\"padding-left: 1em; padding-right: 1em; text-align: center\">text</th>\n",
       "        <th style=\"padding-left: 1em; padding-right: 1em; text-align: center\">word_count</th>\n",
       "    </tr>\n",
       "    <tr>\n",
       "        <td style=\"padding-left: 1em; padding-right: 1em; text-align: center; vertical-align: top\">&lt;http://dbpedia.org/resou<br>rce/George_Clooney&gt; ...</td>\n",
       "        <td style=\"padding-left: 1em; padding-right: 1em; text-align: center; vertical-align: top\">George Clooney</td>\n",
       "        <td style=\"padding-left: 1em; padding-right: 1em; text-align: center; vertical-align: top\">george timothy clooney<br>born may 6 1961 is an ...</td>\n",
       "        <td style=\"padding-left: 1em; padding-right: 1em; text-align: center; vertical-align: top\">{'all': 1L, 'six': 1L,<br>'producer': 1L, 'gold ...</td>\n",
       "    </tr>\n",
       "</table>\n",
       "[1 rows x 4 columns]<br/>\n",
       "</div>"
      ],
      "text/plain": [
       "Columns:\n",
       "\tURI\tstr\n",
       "\tname\tstr\n",
       "\ttext\tstr\n",
       "\tword_count\tdict\n",
       "\n",
       "Rows: 1\n",
       "\n",
       "Data:\n",
       "+-------------------------------+----------------+\n",
       "|              URI              |      name      |\n",
       "+-------------------------------+----------------+\n",
       "| <http://dbpedia.org/resour... | George Clooney |\n",
       "+-------------------------------+----------------+\n",
       "+-------------------------------+-------------------------------+\n",
       "|              text             |           word_count          |\n",
       "+-------------------------------+-------------------------------+\n",
       "| george timothy clooney bor... | {'all': 1L, 'six': 1L, 'pr... |\n",
       "+-------------------------------+-------------------------------+\n",
       "[1 rows x 4 columns]"
      ]
     },
     "execution_count": 31,
     "metadata": {},
     "output_type": "execute_result"
    }
   ],
   "source": [
    "obmama_word_count_table=o"
   ]
  },
  {
   "cell_type": "code",
   "execution_count": null,
   "metadata": {},
   "outputs": [],
   "source": []
  },
  {
   "cell_type": "code",
   "execution_count": null,
   "metadata": {},
   "outputs": [],
   "source": []
  }
 ],
 "metadata": {
  "hide_input": false,
  "kernelspec": {
   "display_name": "Python 2",
   "language": "python",
   "name": "python2"
  },
  "language_info": {
   "codemirror_mode": {
    "name": "ipython",
    "version": 2
   },
   "file_extension": ".py",
   "mimetype": "text/x-python",
   "name": "python",
   "nbconvert_exporter": "python",
   "pygments_lexer": "ipython2",
   "version": "2.7.10"
  },
  "toc": {
   "nav_menu": {},
   "number_sections": true,
   "sideBar": true,
   "skip_h1_title": false,
   "toc_cell": false,
   "toc_position": {},
   "toc_section_display": "block",
   "toc_window_display": false
  }
 },
 "nbformat": 4,
 "nbformat_minor": 2
}
