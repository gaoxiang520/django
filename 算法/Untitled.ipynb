{
 "cells": [
  {
   "cell_type": "markdown",
   "metadata": {},
   "source": [
    "# 机器学习之基础数学知识"
   ]
  },
  {
   "cell_type": "markdown",
   "metadata": {},
   "source": [
    "## 积分"
   ]
  },
  {
   "cell_type": "markdown",
   "metadata": {},
   "source": [
    "![title](图片/QQ截图20180206155421.png)![title](图片/QQ截图20180206155731.png)"
   ]
  },
  {
   "cell_type": "markdown",
   "metadata": {},
   "source": [
    "### [泰勒定理](http://www.matongxue.com/madocs/7.html#/madoc)"
   ]
  },
  {
   "cell_type": "markdown",
   "metadata": {},
   "source": [
    "<img src=\"https://wikimedia.org/api/rest_v1/media/math/render/svg/d0070da6cb78cda75d9ff9521f85702c97862673\">"
   ]
  },
  {
   "cell_type": "markdown",
   "metadata": {},
   "source": [
    "### 拉格朗日中值定理"
   ]
  },
  {
   "cell_type": "markdown",
   "metadata": {},
   "source": [
    "### 罗尔定理"
   ]
  },
  {
   "cell_type": "code",
   "execution_count": null,
   "metadata": {},
   "outputs": [],
   "source": []
  },
  {
   "cell_type": "markdown",
   "metadata": {},
   "source": [
    "# 线性回归"
   ]
  },
  {
   "cell_type": "markdown",
   "metadata": {},
   "source": [
    "## 代价函数"
   ]
  },
  {
   "cell_type": "code",
   "execution_count": null,
   "metadata": {},
   "outputs": [],
   "source": []
  },
  {
   "cell_type": "code",
   "execution_count": 130,
   "metadata": {},
   "outputs": [
    {
     "data": {
      "text/plain": [
       "array([[ 0.25, -0.75],\n",
       "       [-0.75,  2.25]])"
      ]
     },
     "execution_count": 130,
     "metadata": {},
     "output_type": "execute_result"
    }
   ],
   "source": [
    "computerCost(np.array([[1,2],[1,2]]),np.array([2,1]),np.array([1,2]))"
   ]
  },
  {
   "cell_type": "code",
   "execution_count": 107,
   "metadata": {},
   "outputs": [
    {
     "data": {
      "text/plain": [
       "1"
      ]
     },
     "execution_count": 107,
     "metadata": {},
     "output_type": "execute_result"
    }
   ],
   "source": [
    "len([1])"
   ]
  },
  {
   "cell_type": "code",
   "execution_count": 103,
   "metadata": {},
   "outputs": [],
   "source": [
    "a=np.array([1,2]).T"
   ]
  },
  {
   "cell_type": "code",
   "execution_count": 104,
   "metadata": {},
   "outputs": [
    {
     "data": {
      "text/plain": [
       "(2,)"
      ]
     },
     "execution_count": 104,
     "metadata": {},
     "output_type": "execute_result"
    }
   ],
   "source": [
    "a.shape"
   ]
  },
  {
   "cell_type": "code",
   "execution_count": 39,
   "metadata": {},
   "outputs": [
    {
     "data": {
      "text/plain": [
       "4"
      ]
     },
     "execution_count": 39,
     "metadata": {},
     "output_type": "execute_result"
    }
   ],
   "source": []
  },
  {
   "cell_type": "code",
   "execution_count": 18,
   "metadata": {},
   "outputs": [],
   "source": [
    "df=df[[\"Adj. Open\",\"Adj. Low\",\"Adj. Close\",\"Adj. Volume\"]]"
   ]
  },
  {
   "cell_type": "code",
   "execution_count": 110,
   "metadata": {},
   "outputs": [
    {
     "ename": "SyntaxError",
     "evalue": "Missing parentheses in call to 'print'. Did you mean print(int u\"加载数据...\\n\")? (<ipython-input-110-48939f3b2a81>, line 9)",
     "output_type": "error",
     "traceback": [
      "\u001b[1;36m  File \u001b[1;32m\"<ipython-input-110-48939f3b2a81>\"\u001b[1;36m, line \u001b[1;32m9\u001b[0m\n\u001b[1;33m    print u\"加载数据...\\n\"\u001b[0m\n\u001b[1;37m                     ^\u001b[0m\n\u001b[1;31mSyntaxError\u001b[0m\u001b[1;31m:\u001b[0m Missing parentheses in call to 'print'. Did you mean print(int u\"加载数据...\\n\")?\n"
     ]
    }
   ],
   "source": [
    "#-*- coding: utf-8 -*-\n",
    "import numpy as np\n",
    "from matplotlib import pyplot as plt\n",
    "from matplotlib.font_manager import FontProperties\n",
    "font = FontProperties(fname=r\"c:\\windows\\fonts\\simsun.ttc\", size=14)    # 解决windows环境下画图汉字乱码问题\n",
    "\n",
    "\n",
    "def linearRegression(alpha=0.01,num_iters=400):\n",
    "    print u\"加载数据...\\n\"\n",
    "    \n",
    "    data = loadtxtAndcsv_data(\"data.txt\",\",\",np.float64)  #读取数据\n",
    "    X = data[:,0:-1]      # X对应0到倒数第2列                  \n",
    "    y = data[:,-1]        # y对应最后一列  \n",
    "    m = len(y)            # 总的数据条数\n",
    "    col = data.shape[1]      # data的列数\n",
    "    \n",
    "    X,mu,sigma = featureNormaliza(X)    # 归一化\n",
    "    plot_X1_X2(X)         # 画图看一下归一化效果\n",
    "    \n",
    "    X = np.hstack((np.ones((m,1)),X))    # 在X前加一列1\n",
    "    \n",
    "    print u\"\\n执行梯度下降算法....\\n\"\n",
    "    \n",
    "    theta = np.zeros((col,1))\n",
    "    y = y.reshape(-1,1)   #将行向量转化为列\n",
    "    theta,J_history = gradientDescent(X, y, theta, alpha, num_iters)\n",
    "    \n",
    "    plotJ(J_history, num_iters)\n",
    "    \n",
    "    return mu,sigma,theta   #返回均值mu,标准差sigma,和学习的结果theta\n",
    "    \n",
    "   \n",
    "# 加载txt和csv文件\n",
    "def loadtxtAndcsv_data(fileName,split,dataType):\n",
    "    return np.loadtxt(fileName,delimiter=split,dtype=dataType)\n",
    "\n",
    "# 加载npy文件\n",
    "def loadnpy_data(fileName):\n",
    "    return np.load(fileName)\n",
    "\n",
    "# 归一化feature\n",
    "def featureNormaliza(X):\n",
    "    X_norm = np.array(X)            #将X转化为numpy数组对象，才可以进行矩阵的运算\n",
    "    #定义所需变量\n",
    "    mu = np.zeros((1,X.shape[1]))   \n",
    "    sigma = np.zeros((1,X.shape[1]))\n",
    "    \n",
    "    mu = np.mean(X_norm,0)          # 求每一列的平均值（0指定为列，1代表行）\n",
    "    sigma = np.std(X_norm,0)        # 求每一列的标准差\n",
    "    for i in range(X.shape[1]):     # 遍历列\n",
    "        X_norm[:,i] = (X_norm[:,i]-mu[i])/sigma[i]  # 归一化\n",
    "    \n",
    "    return X_norm,mu,sigma\n",
    "\n",
    "# 画二维图\n",
    "def plot_X1_X2(X):\n",
    "    plt.scatter(X[:,0],X[:,1])\n",
    "    plt.show()\n",
    "\n",
    "\n",
    "# 梯度下降算法\n",
    "def gradientDescent(X,y,theta,alpha,num_iters):\n",
    "    m = len(y)      \n",
    "    n = len(theta)\n",
    "    \n",
    "    temp = np.matrix(np.zeros((n,num_iters)))   # 暂存每次迭代计算的theta，转化为矩阵形式\n",
    "    \n",
    "    \n",
    "    J_history = np.zeros((num_iters,1)) #记录每次迭代计算的代价值\n",
    "    \n",
    "    for i in range(num_iters):  # 遍历迭代次数    \n",
    "        h = np.dot(X,theta)     # 计算内积，matrix可以直接乘\n",
    "        temp[:,i] = theta - ((alpha/m)*(np.dot(np.transpose(X),h-y)))   #梯度的计算\n",
    "        theta = temp[:,i]\n",
    "        J_history[i] = computerCost(X,y,theta)      #调用计算代价函数\n",
    "        print '.',      \n",
    "    return theta,J_history  \n",
    "\n",
    "# 计算代价函数\n",
    "def computerCost(X,y,theta):\n",
    "    m = len(y)\n",
    "    J = 0\n",
    "    \n",
    "    J = (np.transpose(X*theta-y))*(X*theta-y)/(2*m) #计算代价J\n",
    "    return J\n",
    "\n",
    "# 画每次迭代代价的变化图\n",
    "def plotJ(J_history,num_iters):\n",
    "    x = np.arange(1,num_iters+1)\n",
    "    plt.plot(x,J_history)\n",
    "    plt.xlabel(u\"迭代次数\",fontproperties=font) # 注意指定字体，要不然出现乱码问题\n",
    "    plt.ylabel(u\"代价值\",fontproperties=font)\n",
    "    plt.title(u\"代价随迭代次数的变化\",fontproperties=font)\n",
    "    plt.show()\n",
    "\n",
    "# 测试linearRegression函数\n",
    "def testLinearRegression():\n",
    "    mu,sigma,theta = linearRegression(0.01,400)\n",
    "    #print u\"\\n计算的theta值为：\\n\",theta\n",
    "    #print u\"\\n预测结果为：%f\"%predict(mu, sigma, theta)\n",
    "    \n",
    "# 测试学习效果（预测）\n",
    "def predict(mu,sigma,theta):\n",
    "    result = 0\n",
    "    # 注意归一化\n",
    "    predict = np.array([1650,3])\n",
    "    norm_predict = (predict-mu)/sigma\n",
    "    final_predict = np.hstack((np.ones((1)),norm_predict))\n",
    "    \n",
    "    result = np.dot(final_predict,theta)    # 预测结果\n",
    "    return result\n",
    "    \n",
    "    \n",
    "if __name__ == \"__main__\":\n",
    "    testLinearRegression()"
   ]
  },
  {
   "cell_type": "code",
   "execution_count": null,
   "metadata": {},
   "outputs": [],
   "source": []
  },
  {
   "cell_type": "code",
   "execution_count": null,
   "metadata": {},
   "outputs": [],
   "source": []
  },
  {
   "cell_type": "code",
   "execution_count": null,
   "metadata": {},
   "outputs": [],
   "source": []
  },
  {
   "cell_type": "code",
   "execution_count": null,
   "metadata": {},
   "outputs": [],
   "source": []
  },
  {
   "cell_type": "code",
   "execution_count": null,
   "metadata": {},
   "outputs": [],
   "source": []
  }
 ],
 "metadata": {
  "hide_input": false,
  "kernelspec": {
   "display_name": "Python 3",
   "language": "python",
   "name": "python3"
  },
  "language_info": {
   "codemirror_mode": {
    "name": "ipython",
    "version": 3
   },
   "file_extension": ".py",
   "mimetype": "text/x-python",
   "name": "python",
   "nbconvert_exporter": "python",
   "pygments_lexer": "ipython3",
   "version": "3.6.4"
  },
  "toc": {
   "nav_menu": {
    "height": "156px",
    "width": "176px"
   },
   "number_sections": true,
   "sideBar": true,
   "skip_h1_title": false,
   "toc_cell": false,
   "toc_position": {},
   "toc_section_display": "block",
   "toc_window_display": false
  }
 },
 "nbformat": 4,
 "nbformat_minor": 2
}
