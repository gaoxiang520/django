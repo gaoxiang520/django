{
 "cells": [
  {
   "cell_type": "markdown",
   "metadata": {
    "toc": true
   },
   "source": [
    "<h1>Table of Contents<span class=\"tocSkip\"></span></h1>\n",
    "<div class=\"toc\" style=\"margin-top: 1em;\"><ul class=\"toc-item\"><li><span><a href=\"#回归分析\" data-toc-modified-id=\"回归分析-1\"><span class=\"toc-item-num\">1&nbsp;&nbsp;</span>回归分析</a></span><ul class=\"toc-item\"><li><span><a href=\"#基础概念\" data-toc-modified-id=\"基础概念-1.1\"><span class=\"toc-item-num\">1.1&nbsp;&nbsp;</span>基础概念</a></span><ul class=\"toc-item\"><li><span><a href=\"#最小二乘法\" data-toc-modified-id=\"最小二乘法-1.1.1\"><span class=\"toc-item-num\">1.1.1&nbsp;&nbsp;</span>最小二乘法</a></span></li><li><span><a href=\"#回归检验\" data-toc-modified-id=\"回归检验-1.1.2\"><span class=\"toc-item-num\">1.1.2&nbsp;&nbsp;</span>回归检验</a></span></li></ul></li><li><span><a href=\"#LinearRegression-应用\" data-toc-modified-id=\"LinearRegression-应用-1.2\"><span class=\"toc-item-num\">1.2&nbsp;&nbsp;</span>LinearRegression 应用</a></span><ul class=\"toc-item\"><li><span><a href=\"#例子\" data-toc-modified-id=\"例子-1.2.1\"><span class=\"toc-item-num\">1.2.1&nbsp;&nbsp;</span>例子</a></span></li></ul></li></ul></li></ul></div>"
   ]
  },
  {
   "cell_type": "markdown",
   "metadata": {},
   "source": [
    "# 回归分析"
   ]
  },
  {
   "cell_type": "code",
   "execution_count": 1,
   "metadata": {},
   "outputs": [
    {
     "name": "stderr",
     "output_type": "stream",
     "text": [
      "c:\\users\\gaoxiang\\envs\\test\\lib\\site-packages\\statsmodels\\compat\\pandas.py:56: FutureWarning: The pandas.core.datetools module is deprecated and will be removed in a future version. Please use the pandas.tseries module instead.\n",
      "  from pandas.core import datetools\n"
     ]
    }
   ],
   "source": [
    "import matplotlib.pyplot as plt\n",
    "import pandas as pd\n",
    "from sklearn.linear_model import LinearRegression\n",
    "import numpy as np\n",
    "import statsmodels.api as sm\n",
    "from scipy  import stats"
   ]
  },
  {
   "cell_type": "markdown",
   "metadata": {},
   "source": [
    "## 基础概念"
   ]
  },
  {
   "cell_type": "markdown",
   "metadata": {},
   "source": [
    "### 最小二乘法"
   ]
  },
  {
   "cell_type": "markdown",
   "metadata": {},
   "source": [
    "##### 最小二乘估计法，又称最小平方法，是一种数学优化技术。它通过最小化误差的平方和寻找数据的最佳函数匹配。利用最小二乘估计法可以简便地求得未知的数据，并使得这些求得的数据与实际数据之间误差的平方和为最小。"
   ]
  },
  {
   "cell_type": "markdown",
   "metadata": {},
   "source": [
    "![title](图片/偏导数.jpg)"
   ]
  },
  {
   "cell_type": "markdown",
   "metadata": {},
   "source": [
    "![title](图片/极值.jpg)"
   ]
  },
  {
   "cell_type": "markdown",
   "metadata": {},
   "source": [
    "##### 总平方和=回归平方和+误差平方和\n",
    "判定系数=回归平方和/总平方和"
   ]
  },
  {
   "cell_type": "markdown",
   "metadata": {},
   "source": [
    "### 回归检验"
   ]
  },
  {
   "cell_type": "markdown",
   "metadata": {},
   "source": [
    "##### E（y）=b0+b1x\n",
    "验证b1<>0\n",
    "已知b1分布为自由度n-2，u=B1，方差=MSE/样本方差"
   ]
  },
  {
   "cell_type": "markdown",
   "metadata": {},
   "source": [
    "##### stats.t(8,5,0.5803).interval(0.99)\n",
    "#判断是否在置信区间里"
   ]
  },
  {
   "cell_type": "markdown",
   "metadata": {},
   "source": [
    "## LinearRegression 应用"
   ]
  },
  {
   "cell_type": "markdown",
   "metadata": {},
   "source": [
    "###### 参数\n",
    "* fit_intercept \n",
    "* normalize\n",
    "* copy_X \n",
    "* n_jobs "
   ]
  },
  {
   "cell_type": "markdown",
   "metadata": {},
   "source": [
    "##### 属性\n",
    "* coef_  斜率\n",
    "* intercept_  节距\n"
   ]
  },
  {
   "cell_type": "markdown",
   "metadata": {},
   "source": [
    "##### 方法\n",
    "* fit(X, y[, sample_weight])符合线性模型。\n",
    "* get_params([deep])\t得到的参数估计量。\n",
    "* predict(X)\t使用线性模型预测\n",
    "* score(X, y[, sample_weight])\t返回确定系数R ^ 2的预测。\n",
    "* set_params(**params)\t设置的参数估计量。"
   ]
  },
  {
   "cell_type": "markdown",
   "metadata": {},
   "source": [
    "### 例子"
   ]
  },
  {
   "cell_type": "code",
   "execution_count": 7,
   "metadata": {
    "scrolled": true
   },
   "outputs": [
    {
     "data": {
      "text/plain": [
       "{'判定系数': 0.9027336300063572,\n",
       " '截距离': 60.000000000000028,\n",
       " '斜率': array([ 5.]),\n",
       " '相关系数': 0.95012295520440782}"
      ]
     },
     "execution_count": 7,
     "metadata": {},
     "output_type": "execute_result"
    }
   ],
   "source": [
    "data = pd.read_excel(r\"C:\\Users\\gaoxiang\\Desktop\\新建文件夹\\a.xlsx\")\n",
    "regr = LinearRegression()\n",
    "regr.fit(X_parameter,Y_parameter)   \n",
    "X_parameter = []\n",
    "Y_parameter = []\n",
    "for single_square_feet,single_price_value in zip(data['square_feet'],data['price']):\n",
    "    X_parameter.append([float(single_square_feet)])\n",
    "    Y_parameter.append(float(single_price_value))\n",
    "predictions = {}\n",
    "predictions['截距离'] = regr.intercept_\n",
    "predictions['斜率'] = regr.coef_\n",
    "predictions['判定系数'] = regr.score(X_parameter,Y_parameter)\n",
    "predictions['相关系数']= regr.score(X_parameter,Y_parameter)**0.5\n",
    "predictions"
   ]
  },
  {
   "cell_type": "code",
   "execution_count": null,
   "metadata": {},
   "outputs": [],
   "source": [
    "显著性检验"
   ]
  }
 ],
 "metadata": {
  "hide_input": false,
  "kernelspec": {
   "display_name": "Python 3",
   "language": "python",
   "name": "python3"
  },
  "language_info": {
   "codemirror_mode": {
    "name": "ipython",
    "version": 3
   },
   "file_extension": ".py",
   "mimetype": "text/x-python",
   "name": "python",
   "nbconvert_exporter": "python",
   "pygments_lexer": "ipython3",
   "version": "3.6.4"
  },
  "toc": {
   "nav_menu": {},
   "number_sections": true,
   "sideBar": true,
   "skip_h1_title": false,
   "toc_cell": true,
   "toc_position": {},
   "toc_section_display": "block",
   "toc_window_display": true
  }
 },
 "nbformat": 4,
 "nbformat_minor": 2
}
