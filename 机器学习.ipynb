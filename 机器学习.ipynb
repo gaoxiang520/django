{
 "cells": [
  {
   "cell_type": "code",
   "execution_count": 1,
   "metadata": {},
   "outputs": [],
   "source": [
    "import graphlab as gl"
   ]
  },
  {
   "cell_type": "code",
   "execution_count": 4,
   "metadata": {},
   "outputs": [
    {
     "data": {
      "text/html": [
       "<pre>Finished parsing file C:\\Users\\gaoxiang\\Documents\\GitHub\\django\\data\\train (1).csv</pre>"
      ],
      "text/plain": [
       "Finished parsing file C:\\Users\\gaoxiang\\Documents\\GitHub\\django\\data\\train (1).csv"
      ]
     },
     "metadata": {},
     "output_type": "display_data"
    },
    {
     "data": {
      "text/html": [
       "<pre>Parsing completed. Parsed 100 lines in 0.053152 secs.</pre>"
      ],
      "text/plain": [
       "Parsing completed. Parsed 100 lines in 0.053152 secs."
      ]
     },
     "metadata": {},
     "output_type": "display_data"
    },
    {
     "name": "stdout",
     "output_type": "stream",
     "text": [
      "------------------------------------------------------\n",
      "Inferred types from first 100 line(s) of file as \n",
      "column_type_hints=[long,long,long,str,str,float,long,long,str,float,str,str]\n",
      "If parsing fails due to incorrect types, you can correct\n",
      "the inferred type list above and pass it to read_csv in\n",
      "the column_type_hints argument\n",
      "------------------------------------------------------\n"
     ]
    },
    {
     "data": {
      "text/html": [
       "<pre>Finished parsing file C:\\Users\\gaoxiang\\Documents\\GitHub\\django\\data\\train (1).csv</pre>"
      ],
      "text/plain": [
       "Finished parsing file C:\\Users\\gaoxiang\\Documents\\GitHub\\django\\data\\train (1).csv"
      ]
     },
     "metadata": {},
     "output_type": "display_data"
    },
    {
     "data": {
      "text/html": [
       "<pre>Parsing completed. Parsed 891 lines in 0.033087 secs.</pre>"
      ],
      "text/plain": [
       "Parsing completed. Parsed 891 lines in 0.033087 secs."
      ]
     },
     "metadata": {},
     "output_type": "display_data"
    }
   ],
   "source": [
    "sf= gl.SFrame(r\"C:\\Users\\gaoxiang\\Documents\\GitHub\\django\\data\\train (1).csv\")"
   ]
  },
  {
   "cell_type": "code",
   "execution_count": 3,
   "metadata": {},
   "outputs": [
    {
     "name": "stdout",
     "output_type": "stream",
     "text": [
      "\n",
      "By running this function, you agree to the following licenses.\n",
      "\n",
      "* libstdc++: https://gcc.gnu.org/onlinedocs/libstdc++/manual/license.html\n",
      "* xz: http://git.tukaani.org/?p=xz.git;a=blob;f=COPYING\n",
      "    \n",
      "Downloading xz.\n",
      "Extracting xz.\n",
      "Downloading gcc-libs.\n",
      "Extracting gcc-libs.\n",
      "Copying gcc-libs into the installation directory.\n"
     ]
    }
   ],
   "source": [
    " graphlab.read_csv() "
   ]
  },
  {
   "cell_type": "code",
   "execution_count": 6,
   "metadata": {
    "scrolled": true
   },
   "outputs": [
    {
     "data": {
      "text/html": [
       "<div style=\"max-height:1000px;max-width:1500px;overflow:auto;\"><table frame=\"box\" rules=\"cols\">\n",
       "    <tr>\n",
       "        <th style=\"padding-left: 1em; padding-right: 1em; text-align: center\">PassengerId</th>\n",
       "        <th style=\"padding-left: 1em; padding-right: 1em; text-align: center\">Survived</th>\n",
       "        <th style=\"padding-left: 1em; padding-right: 1em; text-align: center\">Pclass</th>\n",
       "        <th style=\"padding-left: 1em; padding-right: 1em; text-align: center\">Name</th>\n",
       "        <th style=\"padding-left: 1em; padding-right: 1em; text-align: center\">Sex</th>\n",
       "        <th style=\"padding-left: 1em; padding-right: 1em; text-align: center\">Age</th>\n",
       "        <th style=\"padding-left: 1em; padding-right: 1em; text-align: center\">SibSp</th>\n",
       "        <th style=\"padding-left: 1em; padding-right: 1em; text-align: center\">Parch</th>\n",
       "        <th style=\"padding-left: 1em; padding-right: 1em; text-align: center\">Ticket</th>\n",
       "    </tr>\n",
       "    <tr>\n",
       "        <td style=\"padding-left: 1em; padding-right: 1em; text-align: center; vertical-align: top\">1</td>\n",
       "        <td style=\"padding-left: 1em; padding-right: 1em; text-align: center; vertical-align: top\">0</td>\n",
       "        <td style=\"padding-left: 1em; padding-right: 1em; text-align: center; vertical-align: top\">3</td>\n",
       "        <td style=\"padding-left: 1em; padding-right: 1em; text-align: center; vertical-align: top\">Braund, Mr. Owen Harris</td>\n",
       "        <td style=\"padding-left: 1em; padding-right: 1em; text-align: center; vertical-align: top\">male</td>\n",
       "        <td style=\"padding-left: 1em; padding-right: 1em; text-align: center; vertical-align: top\">22.0</td>\n",
       "        <td style=\"padding-left: 1em; padding-right: 1em; text-align: center; vertical-align: top\">1</td>\n",
       "        <td style=\"padding-left: 1em; padding-right: 1em; text-align: center; vertical-align: top\">0</td>\n",
       "        <td style=\"padding-left: 1em; padding-right: 1em; text-align: center; vertical-align: top\">A/5 21171</td>\n",
       "    </tr>\n",
       "    <tr>\n",
       "        <td style=\"padding-left: 1em; padding-right: 1em; text-align: center; vertical-align: top\">2</td>\n",
       "        <td style=\"padding-left: 1em; padding-right: 1em; text-align: center; vertical-align: top\">1</td>\n",
       "        <td style=\"padding-left: 1em; padding-right: 1em; text-align: center; vertical-align: top\">1</td>\n",
       "        <td style=\"padding-left: 1em; padding-right: 1em; text-align: center; vertical-align: top\">Cumings, Mrs. John<br>Bradley (Florence Briggs ...</td>\n",
       "        <td style=\"padding-left: 1em; padding-right: 1em; text-align: center; vertical-align: top\">female</td>\n",
       "        <td style=\"padding-left: 1em; padding-right: 1em; text-align: center; vertical-align: top\">38.0</td>\n",
       "        <td style=\"padding-left: 1em; padding-right: 1em; text-align: center; vertical-align: top\">1</td>\n",
       "        <td style=\"padding-left: 1em; padding-right: 1em; text-align: center; vertical-align: top\">0</td>\n",
       "        <td style=\"padding-left: 1em; padding-right: 1em; text-align: center; vertical-align: top\">PC 17599</td>\n",
       "    </tr>\n",
       "    <tr>\n",
       "        <td style=\"padding-left: 1em; padding-right: 1em; text-align: center; vertical-align: top\">3</td>\n",
       "        <td style=\"padding-left: 1em; padding-right: 1em; text-align: center; vertical-align: top\">1</td>\n",
       "        <td style=\"padding-left: 1em; padding-right: 1em; text-align: center; vertical-align: top\">3</td>\n",
       "        <td style=\"padding-left: 1em; padding-right: 1em; text-align: center; vertical-align: top\">Heikkinen, Miss. Laina</td>\n",
       "        <td style=\"padding-left: 1em; padding-right: 1em; text-align: center; vertical-align: top\">female</td>\n",
       "        <td style=\"padding-left: 1em; padding-right: 1em; text-align: center; vertical-align: top\">26.0</td>\n",
       "        <td style=\"padding-left: 1em; padding-right: 1em; text-align: center; vertical-align: top\">0</td>\n",
       "        <td style=\"padding-left: 1em; padding-right: 1em; text-align: center; vertical-align: top\">0</td>\n",
       "        <td style=\"padding-left: 1em; padding-right: 1em; text-align: center; vertical-align: top\">STON/O2. 3101282</td>\n",
       "    </tr>\n",
       "    <tr>\n",
       "        <td style=\"padding-left: 1em; padding-right: 1em; text-align: center; vertical-align: top\">4</td>\n",
       "        <td style=\"padding-left: 1em; padding-right: 1em; text-align: center; vertical-align: top\">1</td>\n",
       "        <td style=\"padding-left: 1em; padding-right: 1em; text-align: center; vertical-align: top\">1</td>\n",
       "        <td style=\"padding-left: 1em; padding-right: 1em; text-align: center; vertical-align: top\">Futrelle, Mrs. Jacques<br>Heath (Lily May Peel) ...</td>\n",
       "        <td style=\"padding-left: 1em; padding-right: 1em; text-align: center; vertical-align: top\">female</td>\n",
       "        <td style=\"padding-left: 1em; padding-right: 1em; text-align: center; vertical-align: top\">35.0</td>\n",
       "        <td style=\"padding-left: 1em; padding-right: 1em; text-align: center; vertical-align: top\">1</td>\n",
       "        <td style=\"padding-left: 1em; padding-right: 1em; text-align: center; vertical-align: top\">0</td>\n",
       "        <td style=\"padding-left: 1em; padding-right: 1em; text-align: center; vertical-align: top\">113803</td>\n",
       "    </tr>\n",
       "    <tr>\n",
       "        <td style=\"padding-left: 1em; padding-right: 1em; text-align: center; vertical-align: top\">5</td>\n",
       "        <td style=\"padding-left: 1em; padding-right: 1em; text-align: center; vertical-align: top\">0</td>\n",
       "        <td style=\"padding-left: 1em; padding-right: 1em; text-align: center; vertical-align: top\">3</td>\n",
       "        <td style=\"padding-left: 1em; padding-right: 1em; text-align: center; vertical-align: top\">Allen, Mr. William Henry</td>\n",
       "        <td style=\"padding-left: 1em; padding-right: 1em; text-align: center; vertical-align: top\">male</td>\n",
       "        <td style=\"padding-left: 1em; padding-right: 1em; text-align: center; vertical-align: top\">35.0</td>\n",
       "        <td style=\"padding-left: 1em; padding-right: 1em; text-align: center; vertical-align: top\">0</td>\n",
       "        <td style=\"padding-left: 1em; padding-right: 1em; text-align: center; vertical-align: top\">0</td>\n",
       "        <td style=\"padding-left: 1em; padding-right: 1em; text-align: center; vertical-align: top\">373450</td>\n",
       "    </tr>\n",
       "</table>\n",
       "<table frame=\"box\" rules=\"cols\">\n",
       "    <tr>\n",
       "        <th style=\"padding-left: 1em; padding-right: 1em; text-align: center\">Fare</th>\n",
       "        <th style=\"padding-left: 1em; padding-right: 1em; text-align: center\">Cabin</th>\n",
       "        <th style=\"padding-left: 1em; padding-right: 1em; text-align: center\">Embarked</th>\n",
       "    </tr>\n",
       "    <tr>\n",
       "        <td style=\"padding-left: 1em; padding-right: 1em; text-align: center; vertical-align: top\">7.25</td>\n",
       "        <td style=\"padding-left: 1em; padding-right: 1em; text-align: center; vertical-align: top\"></td>\n",
       "        <td style=\"padding-left: 1em; padding-right: 1em; text-align: center; vertical-align: top\">S</td>\n",
       "    </tr>\n",
       "    <tr>\n",
       "        <td style=\"padding-left: 1em; padding-right: 1em; text-align: center; vertical-align: top\">71.2833</td>\n",
       "        <td style=\"padding-left: 1em; padding-right: 1em; text-align: center; vertical-align: top\">C85</td>\n",
       "        <td style=\"padding-left: 1em; padding-right: 1em; text-align: center; vertical-align: top\">C</td>\n",
       "    </tr>\n",
       "    <tr>\n",
       "        <td style=\"padding-left: 1em; padding-right: 1em; text-align: center; vertical-align: top\">7.925</td>\n",
       "        <td style=\"padding-left: 1em; padding-right: 1em; text-align: center; vertical-align: top\"></td>\n",
       "        <td style=\"padding-left: 1em; padding-right: 1em; text-align: center; vertical-align: top\">S</td>\n",
       "    </tr>\n",
       "    <tr>\n",
       "        <td style=\"padding-left: 1em; padding-right: 1em; text-align: center; vertical-align: top\">53.1</td>\n",
       "        <td style=\"padding-left: 1em; padding-right: 1em; text-align: center; vertical-align: top\">C123</td>\n",
       "        <td style=\"padding-left: 1em; padding-right: 1em; text-align: center; vertical-align: top\">S</td>\n",
       "    </tr>\n",
       "    <tr>\n",
       "        <td style=\"padding-left: 1em; padding-right: 1em; text-align: center; vertical-align: top\">8.05</td>\n",
       "        <td style=\"padding-left: 1em; padding-right: 1em; text-align: center; vertical-align: top\"></td>\n",
       "        <td style=\"padding-left: 1em; padding-right: 1em; text-align: center; vertical-align: top\">S</td>\n",
       "    </tr>\n",
       "</table>\n",
       "[5 rows x 12 columns]<br/>\n",
       "</div>"
      ],
      "text/plain": [
       "Columns:\n",
       "\tPassengerId\tint\n",
       "\tSurvived\tint\n",
       "\tPclass\tint\n",
       "\tName\tstr\n",
       "\tSex\tstr\n",
       "\tAge\tfloat\n",
       "\tSibSp\tint\n",
       "\tParch\tint\n",
       "\tTicket\tstr\n",
       "\tFare\tfloat\n",
       "\tCabin\tstr\n",
       "\tEmbarked\tstr\n",
       "\n",
       "Rows: 5\n",
       "\n",
       "Data:\n",
       "+-------------+----------+--------+-------------------------------+--------+\n",
       "| PassengerId | Survived | Pclass |              Name             |  Sex   |\n",
       "+-------------+----------+--------+-------------------------------+--------+\n",
       "|      1      |    0     |   3    |    Braund, Mr. Owen Harris    |  male  |\n",
       "|      2      |    1     |   1    | Cumings, Mrs. John Bradley... | female |\n",
       "|      3      |    1     |   3    |     Heikkinen, Miss. Laina    | female |\n",
       "|      4      |    1     |   1    | Futrelle, Mrs. Jacques Hea... | female |\n",
       "|      5      |    0     |   3    |    Allen, Mr. William Henry   |  male  |\n",
       "+-------------+----------+--------+-------------------------------+--------+\n",
       "+------+-------+-------+------------------+---------+-------+----------+\n",
       "| Age  | SibSp | Parch |      Ticket      |   Fare  | Cabin | Embarked |\n",
       "+------+-------+-------+------------------+---------+-------+----------+\n",
       "| 22.0 |   1   |   0   |    A/5 21171     |   7.25  |       |    S     |\n",
       "| 38.0 |   1   |   0   |     PC 17599     | 71.2833 |  C85  |    C     |\n",
       "| 26.0 |   0   |   0   | STON/O2. 3101282 |  7.925  |       |    S     |\n",
       "| 35.0 |   1   |   0   |      113803      |   53.1  |  C123 |    S     |\n",
       "| 35.0 |   0   |   0   |      373450      |   8.05  |       |    S     |\n",
       "+------+-------+-------+------------------+---------+-------+----------+\n",
       "[5 rows x 12 columns]"
      ]
     },
     "execution_count": 6,
     "metadata": {},
     "output_type": "execute_result"
    }
   ],
   "source": [
    "sf.head(5)"
   ]
  },
  {
   "cell_type": "code",
   "execution_count": 7,
   "metadata": {},
   "outputs": [
    {
     "name": "stdout",
     "output_type": "stream",
     "text": [
      "Canvas is accessible via web browser at the URL: http://localhost:2314/index.html\n",
      "Opening Canvas in default web browser.\n"
     ]
    }
   ],
   "source": [
    "sf.show()"
   ]
  },
  {
   "cell_type": "code",
   "execution_count": 13,
   "metadata": {},
   "outputs": [],
   "source": [
    "gl.canvas.set_target(\"ipynb\")"
   ]
  },
  {
   "cell_type": "code",
   "execution_count": 20,
   "metadata": {},
   "outputs": [
    {
     "data": {
      "application/javascript": [
       "$(\"head\").append($(\"<link/>\").attr({\n",
       "  rel:  \"stylesheet\",\n",
       "  type: \"text/css\",\n",
       "  href: \"//cdnjs.cloudflare.com/ajax/libs/font-awesome/4.1.0/css/font-awesome.min.css\"\n",
       "}));\n",
       "$(\"head\").append($(\"<link/>\").attr({\n",
       "  rel:  \"stylesheet\",\n",
       "  type: \"text/css\",\n",
       "  href: \"https://static.turi.com/products/graphlab-create/2.1/canvas/css/canvas.css\"\n",
       "}));\n",
       "\n",
       "            (function(){\n",
       "\n",
       "                var e = null;\n",
       "                if (typeof element == 'undefined') {\n",
       "                    var scripts = document.getElementsByTagName('script');\n",
       "                    var thisScriptTag = scripts[scripts.length-1];\n",
       "                    var parentDiv = thisScriptTag.parentNode;\n",
       "                    e = document.createElement('div');\n",
       "                    parentDiv.appendChild(e);\n",
       "                } else {\n",
       "                    e = element[0];\n",
       "                }\n",
       "\n",
       "                if (typeof requirejs !== 'undefined') {\n",
       "                    // disable load timeout; ipython_app.js is large and can take a while to load.\n",
       "                    requirejs.config({waitSeconds: 0});\n",
       "                }\n",
       "\n",
       "                require(['https://static.turi.com/products/graphlab-create/2.1/canvas/js/ipython_app.js'], function(IPythonApp){\n",
       "                    var app = new IPythonApp();\n",
       "                    app.attachView('sarray','Numeric', {\"ipython\": true, \"sketch\": {\"std\": 49.6655344447741, \"complete\": true, \"min\": 0.0, \"max\": 512.3292, \"quantile\": [0.0, 0.0, 6.2375, 6.975, 7.05, 7.225, 7.225, 7.2292, 7.25, 7.25, 7.55, 7.7292, 7.75, 7.75, 7.75, 7.75, 7.775, 7.775, 7.7958, 7.8542, 7.8542, 7.8958, 7.8958, 7.8958, 7.8958, 7.8958, 7.925, 7.925, 8.05, 8.05, 8.05, 8.05, 8.1125, 8.6542, 8.6625, 9.0, 9.5, 9.5875, 10.4625, 10.5, 10.5, 11.1333, 12.275, 12.525, 13.0, 13.0, 13.0, 13.0, 13.0, 14.0, 14.4542, 14.5, 15.2458, 15.5, 15.85, 16.1, 17.8, 19.2583, 20.2125, 21.0, 21.6792, 23.25, 24.15, 25.5875, 26.0, 26.0, 26.0, 26.25, 26.2875, 26.55, 27.0, 27.75, 29.0, 29.7, 30.5, 31.0, 31.3875, 34.0208, 35.5, 39.0, 39.6875, 46.9, 50.0, 52.0, 53.1, 56.4958, 57.9792, 66.6, 69.55, 73.5, 77.9583, 79.2, 82.1708, 89.1042, 93.5, 113.275, 134.5, 151.55, 211.3375, 262.375, 512.3292], \"median\": 14.4542, \"numeric\": true, \"num_unique\": 248, \"num_undefined\": 0, \"var\": 2466.665311685043, \"progress\": 1.0, \"size\": 891, \"frequent_items\": {\"7.25\": {\"frequency\": 13, \"value\": 7.25}, \"35.5\": {\"frequency\": 4, \"value\": 35.5}, \"93.5\": {\"frequency\": 2, \"value\": 93.5}, \"7.8792\": {\"frequency\": 4, \"value\": 7.8792}, \"5.0\": {\"frequency\": 1, \"value\": 5.0}, \"86.5\": {\"frequency\": 3, \"value\": 86.5}, \"9.0\": {\"frequency\": 2, \"value\": 9.0}, \"12.0\": {\"frequency\": 1, \"value\": 12.0}, \"13.0\": {\"frequency\": 42, \"value\": 13.0}, \"14.0\": {\"frequency\": 1, \"value\": 14.0}, \"15.0\": {\"frequency\": 1, \"value\": 15.0}, \"16.0\": {\"frequency\": 1, \"value\": 16.0}, \"18.0\": {\"frequency\": 3, \"value\": 18.0}, \"15.1\": {\"frequency\": 1, \"value\": 15.1}, \"21.0\": {\"frequency\": 6, \"value\": 21.0}, \"25.5875\": {\"frequency\": 1, \"value\": 25.5875}, \"23.0\": {\"frequency\": 4, \"value\": 23.0}, \"24.0\": {\"frequency\": 2, \"value\": 24.0}, \"7.6292\": {\"frequency\": 1, \"value\": 7.6292}, \"26.0\": {\"frequency\": 31, \"value\": 26.0}, \"27.0\": {\"frequency\": 2, \"value\": 27.0}, \"13.5\": {\"frequency\": 4, \"value\": 13.5}, \"29.0\": {\"frequency\": 2, \"value\": 29.0}, \"30.0\": {\"frequency\": 6, \"value\": 30.0}, \"0.0\": {\"frequency\": 15, \"value\": 0.0}, \"33.0\": {\"frequency\": 3, \"value\": 33.0}, \"35.0\": {\"frequency\": 1, \"value\": 35.0}, \"42.4\": {\"frequency\": 1, \"value\": 42.4}, \"164.8667\": {\"frequency\": 2, \"value\": 164.8667}, \"39.0\": {\"frequency\": 4, \"value\": 39.0}, \"25.925\": {\"frequency\": 1, \"value\": 25.925}, \"7.925\": {\"frequency\": 18, \"value\": 7.925}, \"7.55\": {\"frequency\": 4, \"value\": 7.55}, \"22.3583\": {\"frequency\": 2, \"value\": 22.3583}, \"50.0\": {\"frequency\": 1, \"value\": 50.0}, \"57.9792\": {\"frequency\": 2, \"value\": 57.9792}, \"52.0\": {\"frequency\": 7, \"value\": 52.0}, \"26.3875\": {\"frequency\": 1, \"value\": 26.3875}, \"55.0\": {\"frequency\": 2, \"value\": 55.0}, \"57.0\": {\"frequency\": 2, \"value\": 57.0}, \"15.05\": {\"frequency\": 1, \"value\": 15.05}, \"153.4625\": {\"frequency\": 3, \"value\": 153.4625}, \"9.4833\": {\"frequency\": 1, \"value\": 9.4833}, \"7.125\": {\"frequency\": 4, \"value\": 7.125}, \"7.5208\": {\"frequency\": 1, \"value\": 7.5208}, \"34.0208\": {\"frequency\": 1, \"value\": 34.0208}, \"80.0\": {\"frequency\": 2, \"value\": 80.0}, \"13.8583\": {\"frequency\": 1, \"value\": 13.8583}, \"71.2833\": {\"frequency\": 1, \"value\": 71.2833}, \"90.0\": {\"frequency\": 4, \"value\": 90.0}, \"7.875\": {\"frequency\": 1, \"value\": 7.875}, \"27.7208\": {\"frequency\": 5, \"value\": 27.7208}, \"9.5\": {\"frequency\": 9, \"value\": 9.5}, \"49.5\": {\"frequency\": 1, \"value\": 49.5}, \"15.0458\": {\"frequency\": 1, \"value\": 15.0458}, \"15.85\": {\"frequency\": 4, \"value\": 15.85}, \"7.775\": {\"frequency\": 16, \"value\": 7.775}, \"15.55\": {\"frequency\": 1, \"value\": 15.55}, \"7.8958\": {\"frequency\": 38, \"value\": 7.8958}, \"11.2417\": {\"frequency\": 2, \"value\": 11.2417}, \"79.2\": {\"frequency\": 4, \"value\": 79.2}, \"19.2583\": {\"frequency\": 4, \"value\": 19.2583}, \"15.7417\": {\"frequency\": 2, \"value\": 15.7417}, \"91.0792\": {\"frequency\": 2, \"value\": 91.0792}, \"120.0\": {\"frequency\": 4, \"value\": 120.0}, \"83.1583\": {\"frequency\": 3, \"value\": 83.1583}, \"7.75\": {\"frequency\": 34, \"value\": 7.75}, \"61.3792\": {\"frequency\": 1, \"value\": 61.3792}, \"37.0042\": {\"frequency\": 2, \"value\": 37.0042}, \"10.1708\": {\"frequency\": 1, \"value\": 10.1708}, \"8.0292\": {\"frequency\": 1, \"value\": 8.0292}, \"133.65\": {\"frequency\": 2, \"value\": 133.65}, \"8.05\": {\"frequency\": 43, \"value\": 8.05}, \"15.5\": {\"frequency\": 8, \"value\": 15.5}, \"10.5\": {\"frequency\": 24, \"value\": 10.5}, \"28.7125\": {\"frequency\": 1, \"value\": 28.7125}, \"25.4667\": {\"frequency\": 4, \"value\": 25.4667}, \"52.5542\": {\"frequency\": 3, \"value\": 52.5542}, \"46.9\": {\"frequency\": 6, \"value\": 46.9}, \"12.875\": {\"frequency\": 1, \"value\": 12.875}, \"7.725\": {\"frequency\": 1, \"value\": 7.725}, \"108.9\": {\"frequency\": 2, \"value\": 108.9}, \"12.35\": {\"frequency\": 3, \"value\": 12.35}, \"14.1083\": {\"frequency\": 1, \"value\": 14.1083}, \"7.7333\": {\"frequency\": 4, \"value\": 7.7333}, \"78.2667\": {\"frequency\": 2, \"value\": 78.2667}, \"77.2875\": {\"frequency\": 2, \"value\": 77.2875}, \"25.9292\": {\"frequency\": 2, \"value\": 25.9292}, \"31.0\": {\"frequency\": 3, \"value\": 31.0}, \"14.4\": {\"frequency\": 2, \"value\": 14.4}, \"8.1583\": {\"frequency\": 1, \"value\": 8.1583}, \"30.5\": {\"frequency\": 5, \"value\": 30.5}, \"13.8625\": {\"frequency\": 1, \"value\": 13.8625}, \"29.125\": {\"frequency\": 5, \"value\": 29.125}, \"56.9292\": {\"frequency\": 2, \"value\": 56.9292}, \"30.6958\": {\"frequency\": 2, \"value\": 30.6958}, \"39.6\": {\"frequency\": 2, \"value\": 39.6}, \"7.7958\": {\"frequency\": 6, \"value\": 7.7958}, \"69.55\": {\"frequency\": 7, \"value\": 69.55}, \"9.8458\": {\"frequency\": 1, \"value\": 9.8458}, \"20.575\": {\"frequency\": 2, \"value\": 20.575}, \"7.65\": {\"frequency\": 4, \"value\": 7.65}, \"512.3292\": {\"frequency\": 3, \"value\": 512.3292}, \"13.7917\": {\"frequency\": 1, \"value\": 13.7917}, \"12.475\": {\"frequency\": 4, \"value\": 12.475}, \"7.7417\": {\"frequency\": 1, \"value\": 7.7417}, \"7.225\": {\"frequency\": 12, \"value\": 7.225}, \"221.7792\": {\"frequency\": 1, \"value\": 221.7792}, \"6.45\": {\"frequency\": 1, \"value\": 6.45}, \"76.7292\": {\"frequency\": 3, \"value\": 76.7292}, \"13.4167\": {\"frequency\": 1, \"value\": 13.4167}, \"33.5\": {\"frequency\": 1, \"value\": 33.5}, \"14.5\": {\"frequency\": 7, \"value\": 14.5}, \"40.125\": {\"frequency\": 1, \"value\": 40.125}, \"14.4583\": {\"frequency\": 3, \"value\": 14.4583}, \"8.85\": {\"frequency\": 1, \"value\": 8.85}, \"7.0542\": {\"frequency\": 2, \"value\": 7.0542}, \"8.1125\": {\"frequency\": 1, \"value\": 8.1125}, \"78.85\": {\"frequency\": 2, \"value\": 78.85}, \"6.4375\": {\"frequency\": 1, \"value\": 6.4375}, \"31.3875\": {\"frequency\": 4, \"value\": 31.3875}, \"50.4958\": {\"frequency\": 1, \"value\": 50.4958}, \"73.5\": {\"frequency\": 5, \"value\": 73.5}, \"55.4417\": {\"frequency\": 1, \"value\": 55.4417}, \"17.8\": {\"frequency\": 2, \"value\": 17.8}, \"263.0\": {\"frequency\": 4, \"value\": 263.0}, \"16.1\": {\"frequency\": 9, \"value\": 16.1}, \"7.7375\": {\"frequency\": 2, \"value\": 7.7375}, \"9.225\": {\"frequency\": 2, \"value\": 9.225}, \"83.475\": {\"frequency\": 2, \"value\": 83.475}, \"76.2917\": {\"frequency\": 1, \"value\": 76.2917}, \"63.3583\": {\"frequency\": 1, \"value\": 63.3583}, \"9.8417\": {\"frequency\": 1, \"value\": 9.8417}, \"6.8583\": {\"frequency\": 1, \"value\": 6.8583}, \"134.5\": {\"frequency\": 2, \"value\": 134.5}, \"27.9\": {\"frequency\": 6, \"value\": 27.9}, \"59.4\": {\"frequency\": 1, \"value\": 59.4}, \"39.6875\": {\"frequency\": 6, \"value\": 39.6875}, \"211.5\": {\"frequency\": 1, \"value\": 211.5}, \"7.0458\": {\"frequency\": 1, \"value\": 7.0458}, \"77.9583\": {\"frequency\": 3, \"value\": 77.9583}, \"26.2875\": {\"frequency\": 3, \"value\": 26.2875}, \"8.4583\": {\"frequency\": 1, \"value\": 8.4583}, \"227.525\": {\"frequency\": 4, \"value\": 227.525}, \"9.475\": {\"frequency\": 1, \"value\": 9.475}, \"8.4042\": {\"frequency\": 1, \"value\": 8.4042}, \"8.7125\": {\"frequency\": 1, \"value\": 8.7125}, \"7.3125\": {\"frequency\": 1, \"value\": 7.3125}, \"7.8292\": {\"frequency\": 2, \"value\": 7.8292}, \"21.6792\": {\"frequency\": 1, \"value\": 21.6792}, \"24.15\": {\"frequency\": 8, \"value\": 24.15}, \"6.75\": {\"frequency\": 2, \"value\": 6.75}, \"8.6542\": {\"frequency\": 1, \"value\": 8.6542}, \"69.3\": {\"frequency\": 2, \"value\": 69.3}, \"21.075\": {\"frequency\": 4, \"value\": 21.075}, \"6.975\": {\"frequency\": 2, \"value\": 6.975}, \"79.65\": {\"frequency\": 3, \"value\": 79.65}, \"81.8583\": {\"frequency\": 1, \"value\": 81.8583}, \"18.7875\": {\"frequency\": 2, \"value\": 18.7875}, \"34.6542\": {\"frequency\": 1, \"value\": 34.6542}, \"61.175\": {\"frequency\": 1, \"value\": 61.175}, \"7.1417\": {\"frequency\": 1, \"value\": 7.1417}, \"20.525\": {\"frequency\": 3, \"value\": 20.525}, \"9.5875\": {\"frequency\": 2, \"value\": 9.5875}, \"26.25\": {\"frequency\": 6, \"value\": 26.25}, \"6.95\": {\"frequency\": 1, \"value\": 6.95}, \"8.1375\": {\"frequency\": 1, \"value\": 8.1375}, \"9.2167\": {\"frequency\": 1, \"value\": 9.2167}, \"36.75\": {\"frequency\": 2, \"value\": 36.75}, \"113.275\": {\"frequency\": 3, \"value\": 113.275}, \"26.2833\": {\"frequency\": 1, \"value\": 26.2833}, \"11.5\": {\"frequency\": 4, \"value\": 11.5}, \"151.55\": {\"frequency\": 4, \"value\": 151.55}, \"8.5167\": {\"frequency\": 1, \"value\": 8.5167}, \"41.5792\": {\"frequency\": 3, \"value\": 41.5792}, \"29.7\": {\"frequency\": 3, \"value\": 29.7}, \"247.5208\": {\"frequency\": 2, \"value\": 247.5208}, \"9.8375\": {\"frequency\": 1, \"value\": 9.8375}, \"262.375\": {\"frequency\": 2, \"value\": 262.375}, \"18.75\": {\"frequency\": 3, \"value\": 18.75}, \"23.45\": {\"frequency\": 2, \"value\": 23.45}, \"49.5042\": {\"frequency\": 2, \"value\": 49.5042}, \"15.9\": {\"frequency\": 2, \"value\": 15.9}, \"56.4958\": {\"frequency\": 7, \"value\": 56.4958}, \"8.3625\": {\"frequency\": 1, \"value\": 8.3625}, \"15.75\": {\"frequency\": 1, \"value\": 15.75}, \"75.25\": {\"frequency\": 1, \"value\": 75.25}, \"7.8\": {\"frequency\": 1, \"value\": 7.8}, \"7.2292\": {\"frequency\": 15, \"value\": 7.2292}, \"65.0\": {\"frequency\": 2, \"value\": 65.0}, \"11.1333\": {\"frequency\": 3, \"value\": 11.1333}, \"82.1708\": {\"frequency\": 2, \"value\": 82.1708}, \"9.35\": {\"frequency\": 2, \"value\": 9.35}, \"6.2375\": {\"frequency\": 1, \"value\": 6.2375}, \"146.5208\": {\"frequency\": 2, \"value\": 146.5208}, \"17.4\": {\"frequency\": 1, \"value\": 17.4}, \"66.6\": {\"frequency\": 2, \"value\": 66.6}, \"20.2125\": {\"frequency\": 2, \"value\": 20.2125}, \"7.7875\": {\"frequency\": 1, \"value\": 7.7875}, \"14.4542\": {\"frequency\": 7, \"value\": 14.4542}, \"19.9667\": {\"frequency\": 2, \"value\": 19.9667}, \"7.8542\": {\"frequency\": 13, \"value\": 7.8542}, \"7.4958\": {\"frequency\": 3, \"value\": 7.4958}, \"4.0125\": {\"frequency\": 1, \"value\": 4.0125}, \"53.1\": {\"frequency\": 5, \"value\": 53.1}, \"19.5\": {\"frequency\": 2, \"value\": 19.5}, \"10.5167\": {\"frequency\": 1, \"value\": 10.5167}, \"71.0\": {\"frequency\": 2, \"value\": 71.0}, \"12.275\": {\"frequency\": 1, \"value\": 12.275}, \"39.4\": {\"frequency\": 1, \"value\": 39.4}, \"51.4792\": {\"frequency\": 1, \"value\": 51.4792}, \"7.7292\": {\"frequency\": 1, \"value\": 7.7292}, \"47.1\": {\"frequency\": 1, \"value\": 47.1}, \"9.825\": {\"frequency\": 2, \"value\": 9.825}, \"8.6833\": {\"frequency\": 1, \"value\": 8.6833}, \"55.9\": {\"frequency\": 2, \"value\": 55.9}, \"8.3\": {\"frequency\": 1, \"value\": 8.3}, \"23.25\": {\"frequency\": 2, \"value\": 23.25}, \"7.8875\": {\"frequency\": 1, \"value\": 7.8875}, \"10.4625\": {\"frequency\": 2, \"value\": 10.4625}, \"7.05\": {\"frequency\": 7, \"value\": 7.05}, \"16.7\": {\"frequency\": 2, \"value\": 16.7}, \"30.0708\": {\"frequency\": 2, \"value\": 30.0708}, \"12.525\": {\"frequency\": 1, \"value\": 12.525}, \"38.5\": {\"frequency\": 1, \"value\": 38.5}, \"8.6625\": {\"frequency\": 13, \"value\": 8.6625}, \"22.525\": {\"frequency\": 1, \"value\": 22.525}, \"20.25\": {\"frequency\": 2, \"value\": 20.25}, \"211.3375\": {\"frequency\": 3, \"value\": 211.3375}, \"22.025\": {\"frequency\": 1, \"value\": 22.025}, \"12.65\": {\"frequency\": 1, \"value\": 12.65}, \"61.9792\": {\"frequency\": 1, \"value\": 61.9792}, \"27.75\": {\"frequency\": 4, \"value\": 27.75}, \"26.55\": {\"frequency\": 15, \"value\": 26.55}, \"34.375\": {\"frequency\": 4, \"value\": 34.375}, \"6.4958\": {\"frequency\": 2, \"value\": 6.4958}, \"32.3208\": {\"frequency\": 1, \"value\": 32.3208}, \"28.5\": {\"frequency\": 1, \"value\": 28.5}, \"89.1042\": {\"frequency\": 2, \"value\": 89.1042}, \"8.4333\": {\"frequency\": 1, \"value\": 8.4333}, \"12.2875\": {\"frequency\": 1, \"value\": 12.2875}, \"110.8833\": {\"frequency\": 4, \"value\": 110.8833}, \"106.425\": {\"frequency\": 2, \"value\": 106.425}, \"31.275\": {\"frequency\": 7, \"value\": 31.275}, \"135.6333\": {\"frequency\": 3, \"value\": 135.6333}, \"51.8625\": {\"frequency\": 2, \"value\": 51.8625}, \"32.5\": {\"frequency\": 1, \"value\": 32.5}, \"15.2458\": {\"frequency\": 5, \"value\": 15.2458}}, \"mean\": 32.204207968574636}, \"selected_variable\": {\"name\": [\"<SArray>\"], \"dtype\": \"float\", \"view_component\": \"Numeric\", \"view_file\": \"sarray\", \"descriptives\": {\"rows\": 891}, \"type\": \"SArray\", \"view_components\": [\"Numeric\", \"Categorical\"]}, \"histogram\": {\"progress\": 1.0, \"histogram\": {\"max\": 514.6498692, \"bins\": [716, 109, 28, 18, 4, 7, 6, 0, 0, 0, 0, 3], \"min\": -1.7146619999999757}, \"min\": 0.0, \"complete\": 1, \"max\": 512.3292}}, e);\n",
       "                });\n",
       "            })();\n",
       "        "
      ]
     },
     "metadata": {},
     "output_type": "display_data"
    }
   ],
   "source": [
    "sf[\"Fare\"].show()"
   ]
  },
  {
   "cell_type": "code",
   "execution_count": 22,
   "metadata": {},
   "outputs": [
    {
     "data": {
      "text/plain": [
       "dtype: float\n",
       "Rows: 891\n",
       "[22.0, 38.0, 26.0, 35.0, 35.0, None, 54.0, 2.0, 27.0, 14.0, 4.0, 58.0, 20.0, 39.0, 14.0, 55.0, 2.0, None, 31.0, None, 35.0, 34.0, 15.0, 28.0, 8.0, 38.0, None, 19.0, None, None, 40.0, None, None, 66.0, 28.0, 42.0, None, 21.0, 18.0, 14.0, 40.0, 27.0, None, 3.0, 19.0, None, None, None, None, 18.0, 7.0, 21.0, 49.0, 29.0, 65.0, None, 21.0, 28.5, 5.0, 11.0, 22.0, 38.0, 45.0, 4.0, None, None, 29.0, 19.0, 17.0, 26.0, 32.0, 16.0, 21.0, 26.0, 32.0, 25.0, None, None, 0.83, 30.0, 22.0, 29.0, None, 28.0, 17.0, 33.0, 16.0, None, 23.0, 24.0, 29.0, 20.0, 46.0, 26.0, 59.0, None, 71.0, 23.0, 34.0, 34.0, ... ]"
      ]
     },
     "execution_count": 22,
     "metadata": {},
     "output_type": "execute_result"
    }
   ],
   "source": [
    "sf[\"Age\"]"
   ]
  },
  {
   "cell_type": "code",
   "execution_count": 23,
   "metadata": {},
   "outputs": [
    {
     "data": {
      "text/plain": [
       "80.0"
      ]
     },
     "execution_count": 23,
     "metadata": {},
     "output_type": "execute_result"
    }
   ],
   "source": [
    "apply"
   ]
  },
  {
   "cell_type": "code",
   "execution_count": null,
   "metadata": {},
   "outputs": [],
   "source": []
  }
 ],
 "metadata": {
  "hide_input": false,
  "kernelspec": {
   "display_name": "Python 2",
   "language": "python",
   "name": "python2"
  },
  "language_info": {
   "codemirror_mode": {
    "name": "ipython",
    "version": 2
   },
   "file_extension": ".py",
   "mimetype": "text/x-python",
   "name": "python",
   "nbconvert_exporter": "python",
   "pygments_lexer": "ipython2",
   "version": "2.7.10"
  },
  "toc": {
   "nav_menu": {},
   "number_sections": true,
   "sideBar": true,
   "skip_h1_title": false,
   "toc_cell": false,
   "toc_position": {},
   "toc_section_display": "block",
   "toc_window_display": false
  }
 },
 "nbformat": 4,
 "nbformat_minor": 2
}
