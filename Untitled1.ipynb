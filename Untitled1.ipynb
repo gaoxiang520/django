{
 "cells": [
  {
   "cell_type": "code",
   "execution_count": 21,
   "metadata": {},
   "outputs": [],
   "source": [
    "import  pandas  as pd\n",
    "import numpy as np\n",
    "from datetime import datetime\n",
    "import pymysql\n",
    "from sqlalchemy import create_engine\n",
    "conection=create_engine('mysql+pymysql://root@localhost:3306/test?charset=utf8')\n",
    "df2=pd.read_sql('select * from 销量 limit 20',con=conection)"
   ]
  },
  {
   "cell_type": "code",
   "execution_count": 8,
   "metadata": {},
   "outputs": [
    {
     "name": "stdout",
     "output_type": "stream",
     "text": [
      "                   A         B         C         D\n",
      "2013-01-01 -1.057488  0.176466 -2.591594  0.067702\n",
      "2013-01-02 -1.554141 -1.602927  0.903878  0.045793\n",
      "2013-01-03  0.032521  2.028384 -0.857617  0.190094\n",
      "2013-01-04 -0.394612 -1.620906 -0.519734  0.644600\n",
      "2013-01-05 -0.266178 -1.136552  0.542784  1.347529\n",
      "2013-01-06 -0.146180  1.399205 -1.066721 -1.072044\n"
     ]
    }
   ],
   "source": [
    "df = pd.DataFrame(np.random.randn(6,4), index=pd.date_range('20130101', periods=6), columns=list('ABCD')) \n",
    "print(df)"
   ]
  },
  {
   "cell_type": "markdown",
   "metadata": {},
   "source": [
    "# 添加数据"
   ]
  },
  {
   "cell_type": "code",
   "execution_count": 9,
   "metadata": {},
   "outputs": [
    {
     "name": "stdout",
     "output_type": "stream",
     "text": [
      "                   A         B         C  D\n",
      "2013-01-01  2.000000  2.000000  2.000000  2\n",
      "2013-01-01 -1.057488  0.176466 -2.591594  1\n",
      "2013-01-02 -1.554141 -1.602927  0.903878  2\n",
      "2013-01-03  0.032521  2.028384 -0.857617  3\n",
      "2013-01-04 -0.394612 -1.620906 -0.519734  4\n",
      "2013-01-05 -0.266178 -1.136552  0.542784  4\n",
      "2013-01-06 -0.146180  1.399205 -1.066721  4\n"
     ]
    }
   ],
   "source": [
    "jia=pd.DataFrame({\"A\":[2],\"B\":2,\"C\":2,\"D\":2},index=[datetime(2013,1,1)])\n",
    "df[\"D\"]=[1,2,3,4,4,4]\n",
    "df=pd.concat([jia,df])\n",
    "print(df)"
   ]
  },
  {
   "cell_type": "markdown",
   "metadata": {},
   "source": [
    "# 删除数据"
   ]
  },
  {
   "cell_type": "code",
   "execution_count": 10,
   "metadata": {},
   "outputs": [
    {
     "name": "stdout",
     "output_type": "stream",
     "text": [
      "                   B         C  D\n",
      "2013-01-02 -1.602927  0.903878  2\n",
      "2013-01-03  2.028384 -0.857617  3\n",
      "2013-01-04 -1.620906 -0.519734  4\n",
      "2013-01-05 -1.136552  0.542784  4\n",
      "2013-01-06  1.399205 -1.066721  4\n"
     ]
    }
   ],
   "source": [
    "df=df.drop(columns='A')\n",
    "df=df.drop(datetime(2013,1,1))\n",
    "print(df)"
   ]
  },
  {
   "cell_type": "markdown",
   "metadata": {},
   "source": [
    "# 更新数据"
   ]
  },
  {
   "cell_type": "markdown",
   "metadata": {},
   "source": [
    "* 改变索引"
   ]
  },
  {
   "cell_type": "code",
   "execution_count": 11,
   "metadata": {},
   "outputs": [
    {
     "name": "stdout",
     "output_type": "stream",
     "text": [
      "                  C  D\n",
      "B                     \n",
      "-1.602927  0.903878  2\n",
      " 2.028384 -0.857617  3\n",
      "-1.620906 -0.519734  4\n",
      "-1.136552  0.542784  4\n",
      " 1.399205 -1.066721  4\n"
     ]
    }
   ],
   "source": [
    "df=df.rename({datetime(2013,1,1): 33333, 2: 4}, axis='index') # 微调\n",
    "df=df.set_index('B')  #列变索引\n",
    "print(df)"
   ]
  },
  {
   "cell_type": "markdown",
   "metadata": {},
   "source": [
    "* 改变列名"
   ]
  },
  {
   "cell_type": "code",
   "execution_count": 12,
   "metadata": {},
   "outputs": [
    {
     "name": "stdout",
     "output_type": "stream",
     "text": [
      "                  a  c\n",
      "B                     \n",
      "-1.602927  0.903878  2\n",
      " 2.028384 -0.857617  3\n",
      "-1.620906 -0.519734  4\n",
      "-1.136552  0.542784  4\n",
      " 1.399205 -1.066721  4\n"
     ]
    }
   ],
   "source": [
    "df.columns=([1,2])                #暴力更改\n",
    "df=df.rename(columns={1: \"a\", 2: \"c\"})   #微调\n",
    "print(df)"
   ]
  },
  {
   "cell_type": "markdown",
   "metadata": {},
   "source": [
    "* 替换数据"
   ]
  },
  {
   "cell_type": "code",
   "execution_count": 30,
   "metadata": {
    "scrolled": true
   },
   "outputs": [
    {
     "name": "stdout",
     "output_type": "stream",
     "text": [
      "    品牌        shopid    销量     单价\n",
      "0   叙新  553624998618  1868   88.0\n",
      "1   叙新  548903640042  1317   88.0\n",
      "2   叙新  553825107928  1454   35.0\n",
      "3   叙新  555011260737  1256  128.0\n",
      "4   叙新  553740309832   706  125.0\n",
      "5   叙新  555096534374   735  118.0\n",
      "6   叙新  555012088083   898  238.0\n",
      "7   叙新  555176827209   779  138.0\n",
      "8   叙新  549707702804   479  165.0\n",
      "9   叙新  555176303698   487  178.0\n",
      "10  叙新  553595556643   497  168.0\n",
      "11  叙新  553609128604   572  128.0\n",
      "12  叙新  553741761916   572   85.0\n",
      "13  叙新  553778598377   488  175.0\n",
      "14  叙新  553141968737   621   88.0\n",
      "15  叙新  555176835732   850  158.0\n",
      "16  叙新  546670572781   368   88.0\n",
      "17  叙新  549567116181   418  118.0\n",
      "18  叙新  555176059470   665  148.0\n",
      "19  叙新  529795469130   258  138.0\n",
      "    品牌        shopid    销量     单价\n",
      "0   叙新  553624998618  1868   88.0\n",
      "1   叙新  548903640042  1317   88.0\n",
      "2   叙新  553825107928  1454   35.0\n",
      "3   叙新  555011260737  1256  128.0\n",
      "4   叙新  553740309832   706  125.0\n",
      "5   叙新  555096534374   735  118.0\n",
      "6   叙新  555012088083   898  238.0\n",
      "7   叙新  555176827209   779  138.0\n",
      "8   叙新  549707702804   479  165.0\n",
      "9   叙新  555176303698   487  178.0\n",
      "10  叙新  553595556643   497  168.0\n",
      "11  叙新  553609128604   572  128.0\n",
      "12  叙新  553741761916   572   85.0\n",
      "13  叙新  553778598377   488  175.0\n",
      "14  叙新  553141968737   621   88.0\n",
      "15  叙新  555176835732   850  158.0\n",
      "16  叙新  546670572781   368   88.0\n",
      "17  叙新  549567116181   418  118.0\n",
      "18  叙新  555176059470   665  148.0\n",
      "19  叙新  529795469130   258  138.0\n"
     ]
    }
   ],
   "source": [
    "print(df2)\n",
    "df2['品牌']=df2[\"品牌\"].str.replace(\"旧\",\"新\")\n",
    "print(df2)"
   ]
  },
  {
   "cell_type": "code",
   "execution_count": null,
   "metadata": {},
   "outputs": [],
   "source": []
  },
  {
   "cell_type": "markdown",
   "metadata": {},
   "source": [
    "#  重塑数据"
   ]
  },
  {
   "cell_type": "markdown",
   "metadata": {},
   "source": []
  },
  {
   "cell_type": "code",
   "execution_count": null,
   "metadata": {},
   "outputs": [],
   "source": []
  },
  {
   "cell_type": "code",
   "execution_count": null,
   "metadata": {},
   "outputs": [],
   "source": []
  }
 ],
 "metadata": {
  "kernelspec": {
   "display_name": "Python 3",
   "language": "python",
   "name": "python3"
  },
  "language_info": {
   "codemirror_mode": {
    "name": "ipython",
    "version": 3
   },
   "file_extension": ".py",
   "mimetype": "text/x-python",
   "name": "python",
   "nbconvert_exporter": "python",
   "pygments_lexer": "ipython3",
   "version": "3.6.4"
  },
  "toc": {
   "nav_menu": {},
   "number_sections": true,
   "sideBar": true,
   "skip_h1_title": false,
   "toc_cell": false,
   "toc_position": {
    "height": "838px",
    "left": "0px",
    "right": "1708px",
    "top": "111px",
    "width": "212px"
   },
   "toc_section_display": "block",
   "toc_window_display": true
  }
 },
 "nbformat": 4,
 "nbformat_minor": 2
}
