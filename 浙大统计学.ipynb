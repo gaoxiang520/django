{
 "cells": [
  {
   "cell_type": "code",
   "execution_count": 36,
   "metadata": {},
   "outputs": [],
   "source": [
    "import random\n",
    "import matplotlib.pyplot as plt"
   ]
  },
  {
   "cell_type": "markdown",
   "metadata": {},
   "source": [
    "# 第一周"
   ]
  },
  {
   "cell_type": "markdown",
   "metadata": {},
   "source": [
    "## 样本空间，随机事件"
   ]
  },
  {
   "cell_type": "markdown",
   "metadata": {},
   "source": [
    "### 概念\n",
    "* 概率统计是各类学科中唯一一门专门研究随机现象的规律性的学科。\n",
    "* 样本空间：随机试验的所有可能结果构成的集合称为样本空间，记为S={e}\n",
    "* 事件A：样本空间S的子集A称为随机事件A，简称事件A.当且仅当A中的某个样本点发生称事件A发生"
   ]
  },
  {
   "cell_type": "markdown",
   "metadata": {},
   "source": [
    "### 例\n",
    "观察某公交站的候车人数，样本空间S=？\n",
    "\n",
    "事件A表示“至少有5人候车”， A=？\n",
    "\n",
    "事件B表示“候车人数不多于2人”， B＝？\n",
    "\n",
    "S ={0,1, 2,...}; A ={5,6,7,...}; B ={0,1, 2}."
   ]
  },
  {
   "cell_type": "markdown",
   "metadata": {},
   "source": [
    "## 事件的相互关系及运算"
   ]
  },
  {
   "cell_type": "markdown",
   "metadata": {},
   "source": [
    "![title](图片/集合运算.png)"
   ]
  },
  {
   "cell_type": "code",
   "execution_count": 33,
   "metadata": {},
   "outputs": [
    {
     "data": {
      "text/plain": [
       "(True, True)"
      ]
     },
     "execution_count": 33,
     "metadata": {},
     "output_type": "execute_result"
    }
   ],
   "source": [
    "c=set([1,2,3,4,5,6])\n",
    "a=set([1,2,3,4])\n",
    "b=set([2,3,4,5])\n",
    "c=set([3,4,6])\n",
    "a&(b-c)==(a&b)-(a&c),c-(a&b)==(c-a)|(c-b) #分配律  对偶率"
   ]
  },
  {
   "cell_type": "markdown",
   "metadata": {},
   "source": [
    " ![title](图片/vn图.png)"
   ]
  },
  {
   "cell_type": "markdown",
   "metadata": {},
   "source": [
    "## 频率"
   ]
  },
  {
   "cell_type": "markdown",
   "metadata": {},
   "source": [
    "##### 频率\n",
    "是0～1之间的一个实数，在大量重复试验的基础上给出了随机事件发生可能性的估计\n",
    "\n",
    "fn(A) 随n的增大逐渐稳定，稳定值为p"
   ]
  },
  {
   "cell_type": "code",
   "execution_count": null,
   "metadata": {},
   "outputs": [],
   "source": []
  },
  {
   "cell_type": "code",
   "execution_count": 49,
   "metadata": {},
   "outputs": [
    {
     "data": {
      "image/png": "[encoded data removed]",
      "text/plain": [
       "<matplotlib.figure.Figure at 0xd2e1430>"
      ]
     },
     "metadata": {},
     "output_type": "display_data"
    }
   ],
   "source": [
    "def flip_plot(minExp, maxExp):\n",
    "    \"\"\"\n",
    "    Assumes minExp and maxExp positive integers; minExp < maxExp\n",
    "    Plots results of 2**minExp to 2**maxExp coin flips\n",
    "    \"\"\"\n",
    "    # 两个参数的含义，抛硬币的次数为2的minExp次方到2的maxExp次方，也就是一共做了(2**maxExp - 2**minExp)批次实验，每批次重复抛硬币2**n次\n",
    "    ratios = []\n",
    "    xAxis = []\n",
    "    for exp in range(minExp, maxExp + 1):\n",
    "        xAxis.append(2**exp)\n",
    "    for numFlips in xAxis:\n",
    "        numHeads = 0 # 初始化，硬币正面朝上的计数为0\n",
    "        for n in range(numFlips):\n",
    "            if random.random() < 0.5:  # random.random()从[0, 1)随机的取出一个数\n",
    "                numHeads += 1  # 当随机取出的数小于0.5时，正面朝上的计数加1\n",
    "        numTails = numFlips - numHeads  # 得到本次试验中反面朝上的次数\n",
    "        ratios.append(numHeads/(float(numTails)+numHeads))  #正反面计数的比值\n",
    "    plt.title('Heads/Tails Ratios')\n",
    "    plt.xlabel('Number of Flips')\n",
    "    plt.ylabel('Heads/Tails')\n",
    "    plt.plot(xAxis, ratios)\n",
    "    plt.hlines(0.5, 0, xAxis[-1], linestyles='dashed', colors='r')\n",
    "    plt.show()\n",
    "flip_plot(4, 16)"
   ]
  },
  {
   "cell_type": "markdown",
   "metadata": {},
   "source": [
    "## 概率"
   ]
  },
  {
   "cell_type": "markdown",
   "metadata": {},
   "source": [
    "##### 统计性定义\n",
    "当试验的次数增加时，随机\n",
    "事件A发生的频率的稳定值\n",
    "p称为概率.记为P(A)=p."
   ]
  },
  {
   "cell_type": "markdown",
   "metadata": {},
   "source": [
    "![title](图片/概率加法.png)"
   ]
  },
  {
   "cell_type": "markdown",
   "metadata": {},
   "source": [
    " ![title](图片/2.png)"
   ]
  },
  {
   "cell_type": "markdown",
   "metadata": {},
   "source": [
    " ![title](图片/1.png)"
   ]
  },
  {
   "cell_type": "markdown",
   "metadata": {},
   "source": [
    "# 第二周"
   ]
  },
  {
   "cell_type": "markdown",
   "metadata": {},
   "source": [
    "## 古典概型"
   ]
  },
  {
   "cell_type": "markdown",
   "metadata": {},
   "source": [
    "* 样本空间S中样本点有限(有限性)\n",
    "* 出现每一个样本点的概率相等(等可能性)"
   ]
  },
  {
   "cell_type": "markdown",
   "metadata": {},
   "source": [
    "### 不放回抽样  ![title](图片/不放回抽样.png)"
   ]
  },
  {
   "cell_type": "markdown",
   "metadata": {},
   "source": [
    "## 条件概率"
   ]
  },
  {
   "cell_type": "markdown",
   "metadata": {},
   "source": [
    "![title](图片/条件概率.png)"
   ]
  },
  {
   "cell_type": "markdown",
   "metadata": {},
   "source": [
    "![title](图片/4.png)![title](图片/222.png)"
   ]
  },
  {
   "cell_type": "markdown",
   "metadata": {},
   "source": [
    "# 第8周"
   ]
  },
  {
   "cell_type": "markdown",
   "metadata": {},
   "source": [
    "## 随机变量的数组特征"
   ]
  },
  {
   "cell_type": "markdown",
   "metadata": {},
   "source": [
    "### 期望"
   ]
  },
  {
   "cell_type": "markdown",
   "metadata": {},
   "source": [
    "![title](图片/数学期望.png)"
   ]
  },
  {
   "cell_type": "markdown",
   "metadata": {},
   "source": [
    "![title](图片/期望1.png)"
   ]
  },
  {
   "cell_type": "markdown",
   "metadata": {},
   "source": [
    "### 方差"
   ]
  },
  {
   "cell_type": "markdown",
   "metadata": {},
   "source": [
    " ![title](图片/方差.png)"
   ]
  },
  {
   "cell_type": "markdown",
   "metadata": {},
   "source": [
    " ![title](图片/方差2.png)"
   ]
  },
  {
   "cell_type": "markdown",
   "metadata": {},
   "source": [
    "![title](图片/方差3.png)"
   ]
  },
  {
   "cell_type": "markdown",
   "metadata": {},
   "source": [
    "### 协方差和相关系数"
   ]
  },
  {
   "cell_type": "markdown",
   "metadata": {},
   "source": [
    " ![title](图片/协方差1.png)"
   ]
  },
  {
   "cell_type": "markdown",
   "metadata": {},
   "source": [
    "![title](图片/协方差2.png)"
   ]
  },
  {
   "cell_type": "markdown",
   "metadata": {},
   "source": [
    "![title](图片/相关.png)"
   ]
  },
  {
   "cell_type": "markdown",
   "metadata": {},
   "source": [
    "![title](图片/相关3.png)"
   ]
  },
  {
   "cell_type": "markdown",
   "metadata": {},
   "source": [
    "![title](图片/相关5.png)"
   ]
  },
  {
   "cell_type": "code",
   "execution_count": null,
   "metadata": {},
   "outputs": [],
   "source": []
  },
  {
   "cell_type": "code",
   "execution_count": null,
   "metadata": {},
   "outputs": [],
   "source": []
  },
  {
   "cell_type": "code",
   "execution_count": null,
   "metadata": {},
   "outputs": [],
   "source": []
  },
  {
   "cell_type": "code",
   "execution_count": null,
   "metadata": {},
   "outputs": [],
   "source": []
  },
  {
   "cell_type": "code",
   "execution_count": null,
   "metadata": {},
   "outputs": [],
   "source": []
  },
  {
   "cell_type": "code",
   "execution_count": null,
   "metadata": {},
   "outputs": [],
   "source": []
  },
  {
   "cell_type": "code",
   "execution_count": null,
   "metadata": {},
   "outputs": [],
   "source": []
  },
  {
   "cell_type": "code",
   "execution_count": null,
   "metadata": {},
   "outputs": [],
   "source": []
  }
 ],
 "metadata": {
  "hide_input": false,
  "kernelspec": {
   "display_name": "Python 3",
   "language": "python",
   "name": "python3"
  },
  "language_info": {
   "codemirror_mode": {
    "name": "ipython",
    "version": 3
   },
   "file_extension": ".py",
   "mimetype": "text/x-python",
   "name": "python",
   "nbconvert_exporter": "python",
   "pygments_lexer": "ipython3",
   "version": "3.6.4"
  },
  "toc": {
   "nav_menu": {
    "height": "373px",
    "width": "436px"
   },
   "number_sections": true,
   "sideBar": true,
   "skip_h1_title": false,
   "toc_cell": false,
   "toc_position": {},
   "toc_section_display": "block",
   "toc_window_display": false
  }
 },
 "nbformat": 4,
 "nbformat_minor": 2
}
