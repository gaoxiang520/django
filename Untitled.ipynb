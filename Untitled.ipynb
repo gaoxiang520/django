{
 "cells": [
  {
   "cell_type": "markdown",
   "metadata": {
    "toc": true
   },
   "source": [
    "<h1>Table of Contents<span class=\"tocSkip\"></span></h1>\n",
    "<div class=\"toc\" style=\"margin-top: 1em;\"><ul class=\"toc-item\"><li><span><a href=\"#回归分析\" data-toc-modified-id=\"回归分析-1\"><span class=\"toc-item-num\">1&nbsp;&nbsp;</span>回归分析</a></span></li></ul></div>"
   ]
  },
  {
   "cell_type": "code",
   "execution_count": 21,
   "metadata": {},
   "outputs": [],
   "source": [
    "import matplotlib.pyplot as plt\n",
    "import pandas as pd\n",
    "from sklearn.linear_model import LinearRegression"
   ]
  },
  {
   "cell_type": "markdown",
   "metadata": {},
   "source": [
    "# 回归分析"
   ]
  },
  {
   "cell_type": "code",
   "execution_count": 37,
   "metadata": {
    "code_folding": [
     0,
     28,
     43,
     50,
     54
    ]
   },
   "outputs": [
    {
     "name": "stdout",
     "output_type": "stream",
     "text": [
      "{'intercept': 60.000000000000028, 'coefficient': array([ 5.]), 'predict_value': array([ 3560.])}\n",
      "intercept:60.00000000000003\n",
      "coefficient:[ 5.]\n",
      "predict_value:[ 3560.]\n"
     ]
    },
    {
     "data": {
      "image/png": "[encoded data removed]",
      "text/plain": [
       "<matplotlib.figure.Figure at 0x768b290>"
      ]
     },
     "metadata": {},
     "output_type": "display_data"
    }
   ],
   "source": [
    "def get_data(file_name):\n",
    "    # 1. 用pandas读取csv\n",
    "    data = pd.read_excel(file_name)    \n",
    "    # 2. 构造X列表和Y列表\n",
    "    X_parameter = []\n",
    "    Y_parameter = []\n",
    "    for single_square_feet,single_price_value in zip(data['square_feet'],data['price']):\n",
    "        X_parameter.append([float(single_square_feet)])\n",
    "        Y_parameter.append(float(single_price_value))\n",
    "    return X_parameter,Y_parameter\n",
    "# 线性回归分析，其中predict_square_feet为要预测的平方英尺数，函数返回对应的房价\n",
    "def linear_model_main(X_parameter,Y_parameter,predict_square_feet):\n",
    "    # 1. 构造回归对象\n",
    "    regr = LinearRegression()\n",
    "    regr.fit(X_parameter,Y_parameter)    \n",
    "    # 2. 获取预测值\n",
    "    predict_outcome = regr.predict(predict_square_feet) \n",
    "    # 3. 构造返回字典\n",
    "    predictions = {}\n",
    "    # 3.1 截距值\n",
    "    predictions['intercept'] = regr.intercept_\n",
    "    # 3.2 回归系数（斜率值）\n",
    "    predictions['coefficient'] = regr.coef_\n",
    "    predictions['asd'] = regr.score()\n",
    "    # 3.3 预测值\n",
    "    predictions['predict_value'] = predict_outcome\n",
    "    print(predictions)\n",
    "    return predictions\n",
    "# 绘出图像\n",
    "def show_linear_line(X_parameter,Y_parameter):\n",
    "    # 1. 构造回归对象\n",
    "    regr = LinearRegression()\n",
    "    regr.fit(X_parameter,Y_parameter)\n",
    "    \n",
    "    # 2. 绘出已知数据散点图\n",
    "    plt.scatter(X_parameter,Y_parameter,color = 'blue')\n",
    "    \n",
    "    # 3. 绘出预测直线\n",
    "    plt.plot(X_parameter,regr.predict(X_parameter),color = 'red',linewidth = 4)\n",
    "    \n",
    "    plt.title('Predict the house price')\n",
    "    plt.xlabel('square feet')\n",
    "    plt.ylabel('price')\n",
    "    plt.show()\n",
    "def main():\n",
    "    # 1. 读取数据\n",
    "    X,Y = get_data(r\"C:\\Users\\gaoxiang\\Desktop\\新建文件夹\\a.xlsx\")\n",
    "    \n",
    "    # 2. 获取预测值，在这里我们预测700平方英尺大小的房子的房价\n",
    "    predict_square_feet = 700\n",
    "    result = linear_model_main(X,Y,predict_square_feet)\n",
    "    for key,value in result.items():\n",
    "        print ('{0}:{1}'.format(key,value))     \n",
    "    # 3. 绘图\n",
    "    show_linear_line(X,Y)\n",
    "if __name__ == '__main__':\n",
    "    main()"
   ]
  },
  {
   "cell_type": "code",
   "execution_count": 38,
   "metadata": {},
   "outputs": [
    {
     "name": "stdout",
     "output_type": "stream",
     "text": [
      "Automatically created module for IPython interactive environment\n",
      "Coefficients: \n",
      " [ 938.23786125]\n",
      "Mean squared error: 2548.07\n",
      "Variance score: 0.47\n"
     ]
    },
    {
     "data": {
      "image/png": "[encoded data removed]",
      "text/plain": [
       "<matplotlib.figure.Figure at 0x76ff0b0>"
      ]
     },
     "metadata": {},
     "output_type": "display_data"
    }
   ],
   "source": [
    "print(__doc__)\n",
    "\n",
    "\n",
    "# Code source: Jaques Grobler\n",
    "# License: BSD 3 clause\n",
    "\n",
    "\n",
    "import matplotlib.pyplot as plt\n",
    "import numpy as np\n",
    "from sklearn import datasets, linear_model\n",
    "from sklearn.metrics import mean_squared_error, r2_score\n",
    "\n",
    "# Load the diabetes dataset\n",
    "diabetes = datasets.load_diabetes()\n",
    "\n",
    "\n",
    "# Use only one feature\n",
    "diabetes_X = diabetes.data[:, np.newaxis, 2]\n",
    "\n",
    "# Split the data into training/testing sets\n",
    "diabetes_X_train = diabetes_X[:-20]\n",
    "diabetes_X_test = diabetes_X[-20:]\n",
    "\n",
    "# Split the targets into training/testing sets\n",
    "diabetes_y_train = diabetes.target[:-20]\n",
    "diabetes_y_test = diabetes.target[-20:]\n",
    "\n",
    "# Create linear regression object\n",
    "regr = linear_model.LinearRegression()\n",
    "\n",
    "# Train the model using the training sets\n",
    "regr.fit(diabetes_X_train, diabetes_y_train)\n",
    "\n",
    "# Make predictions using the testing set\n",
    "diabetes_y_pred = regr.predict(diabetes_X_test)\n",
    "\n",
    "# The coefficients\n",
    "print('Coefficients: \\n', regr.coef_)\n",
    "# The mean squared error\n",
    "print(\"Mean squared error: %.2f\"\n",
    "      % mean_squared_error(diabetes_y_test, diabetes_y_pred))\n",
    "# Explained variance score: 1 is perfect prediction\n",
    "print('Variance score: %.2f' % r2_score(diabetes_y_test, diabetes_y_pred))\n",
    "\n",
    "# Plot outputs\n",
    "plt.scatter(diabetes_X_test, diabetes_y_test,  color='black')\n",
    "plt.plot(diabetes_X_test, diabetes_y_pred, color='blue', linewidth=3)\n",
    "\n",
    "plt.xticks(())\n",
    "plt.yticks(())\n",
    "\n",
    "plt.show()"
   ]
  }
 ],
 "metadata": {
  "hide_input": false,
  "kernelspec": {
   "display_name": "Python 3",
   "language": "python",
   "name": "python3"
  },
  "language_info": {
   "codemirror_mode": {
    "name": "ipython",
    "version": 3
   },
   "file_extension": ".py",
   "mimetype": "text/x-python",
   "name": "python",
   "nbconvert_exporter": "python",
   "pygments_lexer": "ipython3",
   "version": "3.6.4"
  },
  "toc": {
   "nav_menu": {},
   "number_sections": true,
   "sideBar": true,
   "skip_h1_title": false,
   "toc_cell": true,
   "toc_position": {},
   "toc_section_display": "block",
   "toc_window_display": true
  }
 },
 "nbformat": 4,
 "nbformat_minor": 2
}
